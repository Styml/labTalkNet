{
  "cells": [
    {
      "cell_type": "code",
      "execution_count": null,
      "metadata": {
        "colab": {
          "base_uri": "https://localhost:8080/"
        },
        "id": "VQAh9Mrgxp4V",
        "outputId": "1789bb4a-dd35-462e-e785-49474f3a6582"
      },
      "outputs": [],
      "source": [
        "!python -V"
      ]
    },
    {
      "cell_type": "code",
      "execution_count": null,
      "metadata": {
        "colab": {
          "base_uri": "https://localhost:8080/"
        },
        "id": "LCqXqFgP2ri0",
        "outputId": "c0f3548e-5f9f-4408-aefc-5826816fad70"
      },
      "outputs": [],
      "source": [
        "#@markdown **Step 1:** Check which GPU you've been allocated.\n",
        "\n",
        "!nvidia-smi -L\n",
        "!nvidia-smi"
      ]
    },
    {
      "cell_type": "code",
      "execution_count": null,
      "metadata": {
        "colab": {
          "base_uri": "https://localhost:8080/",
          "height": 1000
        },
        "id": "teF-Ut8Z7Gjp",
        "outputId": "5d4b9094-45f0-4460-9592-2a328b552cef"
      },
      "outputs": [],
      "source": [
        "#@markdown **Step 2:** Download dependencies.\n",
        "%tensorflow_version 2.x\n",
        "import os\n",
        "\n",
        "custom_lists = [\n",
        "    #\"https://gist.githubusercontent.com/SortAnon/997cda157954a189259c9876fd804e53/raw/example_models.json\",\n",
        "]\n",
        "\n",
        "!apt-get install sox libsndfile1 ffmpeg\n",
        "!pip install tensorflow==2.4.1 dash==1.21.0 dash-bootstrap-components==0.13.0 jupyter-dash==0.4.0 psola wget unidecode pysptk frozendict torchvision==0.9.1 torchaudio==0.8.1 torchtext==0.9.1 torch_stft kaldiio pydub pyannote.audio g2p_en pesq pystoi crepe resampy ffmpeg-python torchcrepe einops taming-transformers-rom1504==0.0.6 tensorflow-hub gdown --upgrade\n",
        "!python -m pip install git+https://github.com/SortAnon/NeMo.git\n",
        "if not os.path.exists(\"hifi-gan\"):\n",
        "    !git clone -q --recursive https://github.com/SortAnon/hifi-gan\n",
        "!git clone -q https://github.com/SortAnon/ControllableTalkNet\n",
        "os.chdir(\"/content/ControllableTalkNet\")\n",
        "!git archive --output=./files.tar --format=tar HEAD\n",
        "os.chdir(\"/content\")\n",
        "!tar xf ControllableTalkNet/files.tar\n",
        "!rm -rf ControllableTalkNet\n",
        "\n",
        "# PESQ fix\n",
        "!python -m pip uninstall -y pesq\n",
        "!python -m pip uninstall -y numpy\n",
        "!python -m pip install numpy==1.19.5\n",
        "!python -m pip --no-cache-dir install --no-build-isolation --no-binary :all: pesq==0.0.2\n",
        "\n",
        "os.chdir(\"/content/model_lists\")\n",
        "for c in custom_lists:\n",
        "    !wget \"{c}\"\n",
        "os.chdir(\"/content\")\n"
      ]
    },
    {
      "cell_type": "markdown",
      "metadata": {
        "id": "iIMW9YcT3rf1"
      },
      "source": [
        "#Download pretrained model"
      ]
    },
    {
      "cell_type": "code",
      "execution_count": null,
      "metadata": {
        "colab": {
          "base_uri": "https://localhost:8080/"
        },
        "id": "HtKWhMkzjwUb",
        "outputId": "4f0631e3-acd3-4a4f-f907-48a46132541f"
      },
      "outputs": [],
      "source": [
        "!sudo wget --load-cookies /tmp/cookies.txt \"https://docs.google.com/uc?export=download&confirm=$(wget --quiet --save-cookies /tmp/cookies.txt --keep-session-cookies --no-check-certificate 'https://docs.google.com/uc?export=download&id=17vecivV8k2zEBmwAHLSFN-8UoLkJK5LQ' -O- | sed -rn 's/.*confirm=([0-9A-Za-z_]+).*/\\1\\n/p')&id=17vecivV8k2zEBmwAHLSFN-8UoLkJK5LQ\" -O Character_Talknet.zip && rm -rf /tmp/cookies.txt"
      ]
    },
    {
      "cell_type": "code",
      "execution_count": null,
      "metadata": {
        "colab": {
          "base_uri": "https://localhost:8080/"
        },
        "id": "Fu41AcGGGuZs",
        "outputId": "4c13dd33-df32-4ddd-ba5b-060a9e3bcaa5"
      },
      "outputs": [],
      "source": [
        "!unzip /content/Character_Talknet.zip"
      ]
    },
    {
      "cell_type": "code",
      "execution_count": 6,
      "metadata": {
        "id": "MR21DxRrG1uc"
      },
      "outputs": [],
      "source": [
        "!chmod -R 777 /content/"
      ]
    },
    {
      "cell_type": "markdown",
      "metadata": {
        "id": "yGburQoi3yyY"
      },
      "source": [
        "#Define class and functions"
      ]
    },
    {
      "cell_type": "code",
      "execution_count": 2,
      "metadata": {
        "id": "c3naEr0hHY1F"
      },
      "outputs": [],
      "source": [
        "import json\n",
        "import os\n",
        "import sys\n",
        "import numpy as np\n",
        "import resampy\n",
        "import scipy\n",
        "import torch\n",
        "\n",
        "sys.path.append(\"hifi-gan\")\n",
        "from denoiser import Denoiser\n",
        "from env import AttrDict\n",
        "from meldataset import MAX_WAV_VALUE, mel_spectrogram\n",
        "from models import Generator\n",
        "\n",
        "\n",
        "class vHiFiGAN:\n",
        "    def __init__(self, model_path, conf_name, device):\n",
        "        # Load HiFi-GAN\n",
        "        conf = os.path.join(\"hifi-gan\", conf_name + \".json\")\n",
        "        with open(conf) as f:\n",
        "            json_config = json.loads(f.read())\n",
        "        self.h = AttrDict(json_config)\n",
        "        torch.manual_seed(self.h.seed)\n",
        "        self.hifigan = Generator(self.h).to(torch.device(device))\n",
        "        state_dict_g = torch.load(model_path, map_location=torch.device(device))\n",
        "        self.hifigan.load_state_dict(state_dict_g[\"generator\"])\n",
        "        self.hifigan.eval()\n",
        "        self.hifigan.remove_weight_norm()\n",
        "        self.denoiser = Denoiser(self.hifigan, mode=\"normal\")\n",
        "        self.device = device\n",
        "\n",
        "    def vocode(self, spect):\n",
        "        y_g_hat = self.hifigan(spect.float())\n",
        "        audio = y_g_hat.squeeze()\n",
        "        audio = audio * MAX_WAV_VALUE\n",
        "        audio_denoised = self.denoiser(audio.view(1, -1), strength=35)[:, 0]\n",
        "        return (\n",
        "            audio_denoised.detach().cpu().numpy().reshape(-1).astype(np.int16),\n",
        "            audio_denoised.detach().cpu(),\n",
        "        )\n",
        "\n",
        "    def superres(self, audio, original_sr):\n",
        "        # Resampling\n",
        "        wave = resampy.resample(\n",
        "            audio,\n",
        "            original_sr,\n",
        "            self.h.sampling_rate,\n",
        "            filter=\"sinc_window\",\n",
        "            window=scipy.signal.windows.hann,\n",
        "            num_zeros=8,\n",
        "        )\n",
        "        wave_out = wave.astype(np.int16)\n",
        "\n",
        "        # Super-res\n",
        "        wave = wave / MAX_WAV_VALUE\n",
        "        wave = torch.FloatTensor(wave).to(torch.device(self.device))\n",
        "        new_mel = mel_spectrogram(\n",
        "            wave.unsqueeze(0),\n",
        "            self.h.n_fft,\n",
        "            self.h.num_mels,\n",
        "            self.h.sampling_rate,\n",
        "            self.h.hop_size,\n",
        "            self.h.win_size,\n",
        "            self.h.fmin,\n",
        "            self.h.fmax,\n",
        "        )\n",
        "        y_g_hat2 = self.hifigan(new_mel)\n",
        "        audio2 = y_g_hat2.squeeze()\n",
        "        audio2 = audio2 * MAX_WAV_VALUE\n",
        "        audio2_denoised = self.denoiser(audio2.view(1, -1), strength=35)[:, 0]\n",
        "\n",
        "        # High-pass filter, mixing and denormalizing\n",
        "        audio2_denoised = audio2_denoised.detach().cpu().numpy().reshape(-1)\n",
        "        b = scipy.signal.firwin(\n",
        "            101, cutoff=10500, fs=self.h.sampling_rate, pass_zero=False\n",
        "        )\n",
        "        y = scipy.signal.lfilter(b, [1.0], audio2_denoised)\n",
        "        y *= 4.0  # superres strength\n",
        "        y_out = y.astype(np.int16)\n",
        "        y_padded = np.zeros(wave_out.shape)\n",
        "        y_padded[: y_out.shape[0]] = y_out\n",
        "        sr_mix = wave_out + y_padded\n",
        "        return sr_mix, self.h.sampling_rate\n"
      ]
    },
    {
      "cell_type": "code",
      "execution_count": 11,
      "metadata": {
        "colab": {
          "base_uri": "https://localhost:8080/"
        },
        "id": "bEnYcwzgHFbm",
        "outputId": "a78614f6-4a9b-487f-d2cf-dd089c6cd801"
      },
      "outputs": [
        {
          "name": "stderr",
          "output_type": "stream",
          "text": [
            "[NeMo W 2022-03-29 04:23:59 modelPT:139] If you intend to do training or fine-tuning, please call the ModelPT.setup_training_data() method and provide a valid configuration file to setup the train data loader.\n",
            "    Train config : \n",
            "    dataset:\n",
            "      _target_: nemo.collections.asr.data.audio_to_text.AudioToCharWithDursF0Dataset\n",
            "      manifest_filepath: trainfiles.json\n",
            "      max_duration: null\n",
            "      min_duration: 0.1\n",
            "      int_values: false\n",
            "      load_audio: true\n",
            "      normalize: false\n",
            "      sample_rate: 22050\n",
            "      trim: false\n",
            "      durs_file: /content/drive/My Drive/LPL/durations.pt\n",
            "      f0_file: /content/drive/My Drive/LPL/f0s.pt\n",
            "      blanking: true\n",
            "      vocab:\n",
            "        notation: phonemes\n",
            "        punct: true\n",
            "        spaces: true\n",
            "        stresses: false\n",
            "        add_blank_at: last\n",
            "    dataloader_params:\n",
            "      drop_last: false\n",
            "      shuffle: true\n",
            "      batch_size: 16\n",
            "      num_workers: 4\n",
            "    \n",
            "[NeMo W 2022-03-29 04:23:59 modelPT:146] If you intend to do validation, please call the ModelPT.setup_validation_data() or ModelPT.setup_multiple_validation_data() method and provide a valid configuration file to setup the validation data loader(s). \n",
            "    Validation config : \n",
            "    dataset:\n",
            "      _target_: nemo.collections.asr.data.audio_to_text.AudioToCharWithDursF0Dataset\n",
            "      manifest_filepath: valfiles.json\n",
            "      max_duration: null\n",
            "      min_duration: 0.1\n",
            "      int_values: false\n",
            "      load_audio: true\n",
            "      normalize: false\n",
            "      sample_rate: 22050\n",
            "      trim: false\n",
            "      durs_file: /content/drive/My Drive/LPL/durations.pt\n",
            "      f0_file: /content/drive/My Drive/LPL/f0s.pt\n",
            "      blanking: true\n",
            "      vocab:\n",
            "        notation: phonemes\n",
            "        punct: true\n",
            "        spaces: true\n",
            "        stresses: false\n",
            "        add_blank_at: last\n",
            "    dataloader_params:\n",
            "      drop_last: false\n",
            "      shuffle: false\n",
            "      batch_size: 16\n",
            "      num_workers: 1\n",
            "    \n"
          ]
        },
        {
          "name": "stdout",
          "output_type": "stream",
          "text": [
            "[NeMo I 2022-03-29 04:23:59 features:252] PADDING: 1\n",
            "[NeMo I 2022-03-29 04:23:59 features:269] STFT using torch\n"
          ]
        },
        {
          "name": "stderr",
          "output_type": "stream",
          "text": [
            "[NeMo W 2022-03-29 04:23:59 nemo_logging:349] c:\\Users\\stymlice\\Documents\\GitHub\\labTalkNet\\venv\\lib\\site-packages\\nemo\\collections\\asr\\parts\\preprocessing\\features.py:302: FutureWarning: Pass sr=22050, n_fft=1024 as keyword args. From version 0.10 passing these as positional arguments will result in an error\n",
            "      librosa.filters.mel(sample_rate, self.n_fft, n_mels=nfilt, fmin=lowfreq, fmax=highfreq), dtype=torch.float\n",
            "    \n"
          ]
        },
        {
          "name": "stdout",
          "output_type": "stream",
          "text": [
            "[NeMo I 2022-03-29 04:24:00 modelPT:439] Model TalkNetSpectModel was successfully restored from TalkNetSpect.nemo.\n"
          ]
        },
        {
          "name": "stderr",
          "output_type": "stream",
          "text": [
            "[NeMo W 2022-03-29 04:24:00 modelPT:139] If you intend to do training or fine-tuning, please call the ModelPT.setup_training_data() method and provide a valid configuration file to setup the train data loader.\n",
            "    Train config : \n",
            "    dataset:\n",
            "      _target_: nemo.collections.asr.data.audio_to_text.AudioToCharWithDursF0Dataset\n",
            "      manifest_filepath: trainfiles.json\n",
            "      max_duration: null\n",
            "      min_duration: 0.1\n",
            "      int_values: false\n",
            "      load_audio: false\n",
            "      normalize: false\n",
            "      sample_rate: 22050\n",
            "      trim: false\n",
            "      durs_file: /content/drive/My Drive/LPL/durations.pt\n",
            "      f0_file: /content/drive/My Drive/LPL/f0s.pt\n",
            "      blanking: true\n",
            "      vocab:\n",
            "        notation: phonemes\n",
            "        punct: true\n",
            "        spaces: true\n",
            "        stresses: false\n",
            "        add_blank_at: last\n",
            "    dataloader_params:\n",
            "      drop_last: false\n",
            "      shuffle: true\n",
            "      batch_size: 16\n",
            "      num_workers: 4\n",
            "    \n",
            "[NeMo W 2022-03-29 04:24:00 modelPT:146] If you intend to do validation, please call the ModelPT.setup_validation_data() or ModelPT.setup_multiple_validation_data() method and provide a valid configuration file to setup the validation data loader(s). \n",
            "    Validation config : \n",
            "    dataset:\n",
            "      _target_: nemo.collections.asr.data.audio_to_text.AudioToCharWithDursF0Dataset\n",
            "      manifest_filepath: valfiles.json\n",
            "      max_duration: null\n",
            "      min_duration: 0.1\n",
            "      int_values: false\n",
            "      load_audio: false\n",
            "      normalize: false\n",
            "      sample_rate: 22050\n",
            "      trim: false\n",
            "      durs_file: /content/drive/My Drive/LPL/durations.pt\n",
            "      f0_file: /content/drive/My Drive/LPL/f0s.pt\n",
            "      blanking: true\n",
            "      vocab:\n",
            "        notation: phonemes\n",
            "        punct: true\n",
            "        spaces: true\n",
            "        stresses: false\n",
            "        add_blank_at: last\n",
            "    dataloader_params:\n",
            "      drop_last: false\n",
            "      shuffle: false\n",
            "      batch_size: 16\n",
            "      num_workers: 1\n",
            "    \n"
          ]
        },
        {
          "name": "stdout",
          "output_type": "stream",
          "text": [
            "[NeMo I 2022-03-29 04:24:00 modelPT:439] Model TalkNetPitchModel was successfully restored from TalkNetPitch.nemo.\n"
          ]
        },
        {
          "name": "stderr",
          "output_type": "stream",
          "text": [
            "[NeMo W 2022-03-29 04:24:00 modelPT:139] If you intend to do training or fine-tuning, please call the ModelPT.setup_training_data() method and provide a valid configuration file to setup the train data loader.\n",
            "    Train config : \n",
            "    dataset:\n",
            "      _target_: nemo.collections.asr.data.audio_to_text.AudioToCharWithDursF0Dataset\n",
            "      manifest_filepath: trainfiles.json\n",
            "      max_duration: null\n",
            "      min_duration: 0.1\n",
            "      int_values: false\n",
            "      load_audio: false\n",
            "      normalize: false\n",
            "      sample_rate: 22050\n",
            "      trim: false\n",
            "      durs_file: /content/drive/My Drive/LPL/durations.pt\n",
            "      f0_file: /content/drive/My Drive/LPL/f0s.pt\n",
            "      blanking: true\n",
            "      vocab:\n",
            "        notation: phonemes\n",
            "        punct: true\n",
            "        spaces: true\n",
            "        stresses: false\n",
            "        add_blank_at: last\n",
            "    dataloader_params:\n",
            "      drop_last: false\n",
            "      shuffle: true\n",
            "      batch_size: 64\n",
            "      num_workers: 4\n",
            "    \n",
            "[NeMo W 2022-03-29 04:24:00 modelPT:146] If you intend to do validation, please call the ModelPT.setup_validation_data() or ModelPT.setup_multiple_validation_data() method and provide a valid configuration file to setup the validation data loader(s). \n",
            "    Validation config : \n",
            "    dataset:\n",
            "      _target_: nemo.collections.asr.data.audio_to_text.AudioToCharWithDursF0Dataset\n",
            "      manifest_filepath: valfiles.json\n",
            "      max_duration: null\n",
            "      min_duration: 0.1\n",
            "      int_values: false\n",
            "      load_audio: false\n",
            "      normalize: false\n",
            "      sample_rate: 22050\n",
            "      trim: false\n",
            "      durs_file: /content/drive/My Drive/LPL/durations.pt\n",
            "      f0_file: /content/drive/My Drive/LPL/f0s.pt\n",
            "      blanking: true\n",
            "      vocab:\n",
            "        notation: phonemes\n",
            "        punct: true\n",
            "        spaces: true\n",
            "        stresses: false\n",
            "        add_blank_at: last\n",
            "    dataloader_params:\n",
            "      drop_last: false\n",
            "      shuffle: false\n",
            "      batch_size: 64\n",
            "      num_workers: 1\n",
            "    \n"
          ]
        },
        {
          "name": "stdout",
          "output_type": "stream",
          "text": [
            "[NeMo I 2022-03-29 04:24:01 modelPT:439] Model TalkNetDursModel was successfully restored from TalkNetDurs.nemo.\n",
            "Removing weight norm...\n"
          ]
        },
        {
          "name": "stderr",
          "output_type": "stream",
          "text": [
            "[NeMo W 2022-03-29 04:24:03 nemo_logging:349] hifi-gan\\stft.py:67: FutureWarning: Pass size=1024 as keyword args. From version 0.10 passing these as positional arguments will result in an error\n",
            "      fft_window = pad_center(fft_window, filter_length)\n",
            "    \n"
          ]
        }
      ],
      "source": [
        "import torch\n",
        "from nemo.collections.tts.models import TalkNetSpectModel, TalkNetDursModel, TalkNetPitchModel,HifiGanModel\n",
        "\n",
        "spec_gen = TalkNetSpectModel.restore_from('TalkNetSpect.nemo')\n",
        "spec_gen.add_module('_pitch_model', TalkNetPitchModel.restore_from('TalkNetPitch.nemo'))\n",
        "spec_gen.add_module('_durs_model', TalkNetDursModel.restore_from('TalkNetDurs.nemo'))\n",
        "vocoder = vHiFiGAN('hifiganmodel', \"config_v1\", \"cuda:0\")\n"
      ]
    },
    {
      "cell_type": "code",
      "execution_count": 12,
      "metadata": {
        "id": "Lm0XXGc8IsJr"
      },
      "outputs": [],
      "source": [
        "def infer(str_input):\n",
        "    with torch.no_grad():\n",
        "        parsed = spec_gen.parse(str_input)\n",
        "        gen_spec_kwargs = {}\n",
        "           \n",
        "        spectrogram = spec_gen.generate_spectrogram(tokens=parsed, **gen_spec_kwargs)\n",
        "        #audio = vocoder.convert_spectrogram_to_audio(spec=spectrogram)\n",
        "        audio, audio_torch = vocoder.vocode(spectrogram)\n",
        "#        audio = vocoder._bias_denoise(audio, spectrogram).squeeze(1)\n",
        "    if spectrogram is not None:\n",
        "        if isinstance(spectrogram, torch.Tensor):\n",
        "            spectrogram = spectrogram.to('cpu').numpy()\n",
        "        if len(spectrogram.shape) == 3:\n",
        "            spectrogram = spectrogram[0]\n",
        "    if isinstance(audio, torch.Tensor):\n",
        "        audio = audio.to('cpu').numpy()\n",
        "    return spectrogram, audio"
      ]
    },
    {
      "cell_type": "markdown",
      "metadata": {
        "id": "XcRRVUbeBWCO"
      },
      "source": [
        "#Результат"
      ]
    },
    {
      "cell_type": "code",
      "execution_count": 14,
      "metadata": {
        "colab": {
          "base_uri": "https://localhost:8080/",
          "height": 93
        },
        "id": "2U8bOWmlIiA7",
        "outputId": "b55ac97e-eb96-42ee-b57e-fb3371900f65"
      },
      "outputs": [
        {
          "data": {
            "text/html": [
              "\n",
              "                <audio  controls=\"controls\" autoplay=\"autoplay\">\n",
              "                    <source src=\"data:audio/wav;base64,UklGRiS8AABXQVZFZm10IBAAAAABAAEAIlYAAESsAAACABAAZGF0YQC8AAApAT8BQgE/AUUBQgFFAT8BTAFPAWUBWwFrAYQBlwGNAXEBWwFSAVgBaAF+AYcBdwFiAVUBXgFYAVgBWAF0AW4BaAFYAVIBWAFMAVIBVQFiAV4BVQFYAWsBbgFeAU8BPAFVAWIBaAFrAWsBYgFeAVUBYgFoAXEBfgGUAaMBpgGKAX4BdAFuAWUBbgGEAY0BlwGHAX4BaAFVAUIBTAFeAWIBaAFlAVsBRQE/ATkBSAFYAWUBbgF0AVsBQgEpAR0BIAE5AU8BaAFoAWIBWAFMATkBMwEvASwBNgEsAUIBSAFVAT8BMwEpAS8BPAEvATkBLAE5ARkBGQEgATkBSAFCAT8BSAFVAUwBTAFFAUIBOQEgAS8BTwFYAVIBMwE5AT8BTwE/ATwBOQFCATwBPAE8ATwBLwEgASMBMwFbAVgBVQFPAVUBTwFCAUIBNgEjARMBHQE5AUUBOQEdASwBMwEmASMBIAE5ASwBHQEQASABLAEzAT8BUgFIATkBJgE2AUgBPAE8ASABOQFIAV4BXgFlAWIBUgFlAW4BjQGKAXcBWAFMAV4BaAF+AZQBlwGUAYEBZQFSAVIBTAFPAUUBNgE2AT8BTAFSAT8BOQE8ASMBOQE2AUUBLwEvATMBTAFiAU8BWAFYAXcBbgFbAUIBNgEmATYBWwFlAVIBIwEQASMBTwFiAUUBFgH6AP0AJgFYAVIBQgEmARABHQETASABFgFIAXEBlAGNAWUBPwEgASwBPAFIAT8BLAEgAUIBWwFFATkBIAEQAQ0B/QAKAQoBEAEHAQABEwEQAQABDQEsAUUBMwHkALgA1QAjATYBLwEWATYBSAE/ARkBAAEKASYBQgE8AUUBMwEvAUgBfgGXAZEBSAEzATMBWAFxAWgBawFlAU8BOQFCAUgBLAEEAQ0BLAFoAUwBMwEQATMBRQFFATkBIAEsATkBXgFlAV4BTAE/ATwBQgEmASkBGQE2ASMBEAH0AN4A9wAKASYBGQEgAfEA9wAEASYBPAFVATYBKQEjAUgBbgFuAWUBXgFlAUIBHQETAUUBaAF+AWIBYgEmASYBFgEvATMBIAEZAQ0BPAETAQAB5wAgATkBXgFIARkBDQEQARMBKQEjAR0B9ADnAP0AHQFuAWUBTAH3APEA5AAKARABHQEZARABAAHhAOoA2wDqAOEAGQEQAeoAyAD9ADkBVQEdAfQA7gD9ABABFgEjAUUBVQEgASkBLAFbAU8BTwEpAS8BNgE2ASYBIwEsASwBOQEdARYBBwEgARMB8QDOAPcADQEZAQABCgH9APQA5AAAASkB/QDeAN4AOQFrAV4BJgEzAT8BPwEpARABCgFFAVgBUgFIAS8BJgEdAR0BNgFrAWgBEAG1ANEANgGXAYEBPwHqAPcAEAEsAVgBcQFMARkBEAEmAWUBawFFARkB/QAHAR0BOQFeASwBIAETAQQBOQFIATwBKQEmASwBFgEdASYBPAE5ASAB/QAEAUIBWwFCAQ0B8QAEAR0BKQEvARMBDQENARAB/QATASABQgFrAUwBKQHuAA0BYgFuASkB+gDnAB0BMwEZAQoBCgEjAfoA5ADYAAABFgEZAS8BIAEQAeEA5ADuADwBlAFiAQoBuAC4APcALwE5ASYB5ACiAIYA4QBSAV4BKQGyAMIA9AATAUIBLwEvARYBLwFMAWUBawEzARMB+gA5AW4BWwEmARkBIwFVASwBLwE8ATMBJgETASMBFgFMAS8BWwFYASAB9AANAU8BawFbASkBBAH6AA0BLwE2AVgBUgEjAQ0BCgFCAWUBgQE8AVgBPwFPAUgBVQEpAQcB9wDOACwBYgGHAT8BLwEHAf0A5wANASMBOQEZASMBGQFMAUIBFgEmAfcAYgE8AVIBEwEmASMBHQE8ARkBEwEHAQABRQGgASkB2ACyAAcBcQGUAUwBLwEjAdEATwHfAVUBEwGiAFIBgQF+AdUBIAFFATkBZQHkAGgBSAE5AXcBIwHOACABoAEpAcsA6gBSASkBYgHnANUAyAAQAeQAQgEsASABywAEAVgBHQF3AeoATAEjAWIBBAE8AVgBMwF7AUgBawFPARYBGQHnAA0BBwENASYBOQFFAe4ALAHRAAABsgD9AO4APwFSAW4BLwHnAE8B9wBFAR0BaAHuAFsBWwEEAU8BHQFVAW4BLAF+AY0BewFPATYBMwENAQoB1QDuALsALwEQAcgAZAAyADsAlgC7ALgAiQBLAAYAywDDAeEAIv8F/v3/mwIvBI4C9AA7ABwAegDVAM8B/gHMAb8AYQCZAPcAtQBhABkBzAGtARABuADuAHQBrQEZAUwBSAGwAQgCUwKhAtwBEAFtAA0B5QF8AjcCowEzAT8BMwHnAKIA2AA2AW4BxgF+ARMB+gAZAQcBPAEZAdsABAFbAXcBgQG4AFcAIgA+ANsATAGEATwB1QBqAH0AdwDuABMBdwFlAVUBOQEEAUIBDQEmAUUBaAF+AYoBgQFMAbIAxQDqAGgBjQFeAU8BzgDhADkBaAGRAXcBjQFrAV4BewFoAY0BaAHJAbwBzwGNAfcARQGRAaYBuQEvASkBBAHxAEwBBAEmARABFgEEAcUAtQD0AAoB6gCcAMUAyADYAO4A9ADqAJ8AqQD0ABkB6gD9ANUALwE5AS8B9wDkAAQBCgFuAUwB9ADVAOQAPwFYAU8BaAEsASAB/QAWAT8BbgFVAS8BLAFIAUIBQgFlAY0BwAF0AVgBKQFCAWUBaAFbAWIBTwEHAQ0BRQE5ATkBDQEKATYBIwEgAQAB9wApAVsBGQEAAeoAIAEjASYB7gAAASYB/QAjAfEATAEsAQQBJgH9AGIBRQEZAWgBNgFrAS8BNgF3AW4BkQE5ATwBPAFIAUIBIAE/AVIBOQEZAecADQEpAXsBRQHxACkBHQEgAUUBawFoATwBAAE2AUIBWwFSAVIBRQEAARMBIAEmATkBEwEEAQcBDQEzAQQBHQH3ACwBLAH6APcAAAEZAeEA8QATAe4A+gDCANgAOQHxAAAB/QAEAeoA2AAWAQQBEwEdAS8B/QDOAAcB9wD9ANgALAEKAfQA+gDYAFIB+gD6AJkA/QDhAKYALAH9AC8B3gDLAOEAFgFCARkBIwHnAAcBIAEZASABzgAKAdsA9AAvAfQAMwHRAAABzgCsADwBAAEHAQAB4QDVANEAKQETARMB0QDRAA0BDQFCAecAIwHxAP0ACgHqAAABzgBCARYBNgEHAeoA8QD0AAcBBAFCAR0B9AANAd4A8QAzASAB/QDOAAQBCgHeABABGQHhAOcA5wAvAf0AHQEjASABHQHnACAB+gApAQoBLAH6APoAEwEWAWUBzgD3ACYBKQH9AKYA/QAvAVgB5ADhAAcB2AAmAQABFgHbANUAOQHhAOoAsgATASABrwD3AOEAJgHbANEA4QC7ACwB0QDuAAAB5ADhAO4A/QDCAPoAtQD9AO4AqQDnAOcA4QDbAMsAnwCQAOQAlgCMANgAdwCyANEAxQCDANUAlgCJAMIAegCDAGoAlgDLAMUAcABXAOQAkwCDAG0ARADFADsAkACZAJAAkABnAKkAfQCsAKkAagCfAIkARACfAIYAcwBzAIMAiQBqAIAAVwBXAHoAegCWAKkAkwCAAIAAnACcAJYArwCZAJYAqQDCALUArwDRAKwAywD6APcAGQH0AH0AhgD6AKIAogDqANEA7gCWAJkAvwCWAIkAkACWAKIAwgCfALUAnACJAGoArADFAIYA+gCiAPQA9wCDAOoAqQDYAKIApgDbAPoALAGpAG0A4QD0AAoBGQGBAVgBEgCpAK0BaQJaAEr+DwCYAtoC2AAiAEwBkQGsAO7/LAHJASIA2/96AEAC8QAl/7X/ywCmAT4ALgDqAEgBMwHr/3oAWAHhAKwAZAAzAYcBEwGvACIAkADuAM4AwgC/AOEAsgCWALsAYQBkACIAfQDuAK8AkADxABkBtQCQAKYAuwDbALsA5wA/AeQA2wDOAM4AxQDOAMsALAE2AbIA5AAAAdEACgHbAMsA5wANAW4BPAHhAIwA2wAdARkBzgAgAQcB/QDuAOoA9ACGAJkAsgDLAAABpgCiANsAywD3ALIA2wCmAM4A8QDbALsAmQDVANsA2AD9APoA4QD0AMsA3gDYAMIAuADqAAQBGQHqAMsA6gDRAAAB5ACpAP0AyADnAOEA5ADuALUA/QCsAAcBEAHhANsAwgD9APcABAH0APEA5ADVAAoB5wDFALsApgDbANgAywDCAP0A4QCmAKkArADLANgAnwC/ANgAywDeANsA4QDbAOEAvwDVAOcA2wDRANUA4QDnANUA2ADIANgA9wDVAM4AywDxAPEA2wDOAPEAFgENAfcA4QD6APEA6gD0ANgA4QDeANsA9wDxAOoA0QDCANgA3gDkAMgA0QDVANUAzgDCANsA7gDuAMUAzgDbANEA0QDIAOQA2AC/ALIAvwC4AKkAzgDYAMUAzgC/AM4A7gDVANUA3gDhANUAuwDOAM4A5wDqAMgAywDCANgA5ADVAL8AxQDOALsAzgDOANsA6gDRAOEA5ADbANUA5wDhAMIAyADIAOcA4QC/ALUA0QDVANEAvwDOAMUAuwDLAMsA1QC/ALUAwgDIAMIAtQCyALIArwCyAKkAtQCsAKkAogCmAKkApgCpAKkAvwC4AK8AnAC4AMIAwgC1AL8AwgDCALsAywDVAL8AuAC7ANEAxQDIALgAvwDCAMgA3gDYANgA1QDeAOEA2wDRANsA5wDeAMgAzgDVAOQAzgDYANgA1QDVAMUA2ADOAMgAzgDhAN4A2ADLAMgA1QDnAPEA2ADLANsA6gDkAM4A2wDqANgA2ADFAOEA3gDVAL8AyADOAOEA2wDbANEAyADbANsA1QC7ANUA2wDbAMIAuwC4ALsAvwCyAMIAuwCyAL8AwgC4AL8AxQDIALgAxQC4ANEAwgDCAMUAxQDLAMIAyADFAMsAwgDCALsAsgC4ALgAuAC1ALgAxQC7AMIAvwC7ALsArAC7ALsAxQCvALsAtQC/ALIArAC/AL8AtQC4AL8AyADCALgAzgDFANgAywDhANgA2ADVAO4A5wDVANgA3gDqANUA1QDLAOEAzgDVAMUA5ADOAMsAywDVANUA1QDVAM4AxQDVANUA2ADYAMgA6gDVANsAwgDbAMsA1QDIAMgA2wDOAM4AxQDYAOQA5ADOANUA2wDhAMsA2wDVANsA5ADYAMsA0QDFAMUAxQDIANEAywC/AL8A1QDFANUAvwDLANUA2wDYAMsA3gDFANEA0QDRANgA2ADRAN4A0QDeANsA3gDVAOQA9ADqAPcA8QAAAfoA9wAAAQ0BAAEEAQoBEwENAQQB+gD3APEA4QDqAN4A6gDeAPEA4QDYANEA1QDeAN4A0QDkAOQA4QDbAOEA7gDxAO4A4QDuAOEA8QDkAOQA5ADxAO4A5wDqAN4A8QAEAe4A6gDxAPQA7gDhAOQA5ADnAOoA/QDxAN4AyADYAOQA3gDFANEA2ADkAOEA0QDYALgAywDYAMUA1QDOANsA5ADIALUA1QDuANEAtQCiANEA8QDqAN4AuwDLAOoA/QDRALsA4QD3AAQB8QDbAOEA5ADbAMgA4QD0AP0A5wDOALsAzgDeAOEAzgDVAAQBIAEKAfQA6gDnABMBBwEAASYBIwETASABEwENAQcBBwEAAQcB/QAEARMB+gAHAecAAAEEAf0ABAEKASMBFgEZARkBCgEKAQ0BDQENAQABDQEKAQoB5wDYANsA3gDhANsA5wDkAPEA6gDuAOQA2ADxAAQBBwEgARMBIAEgAR0BGQETARYBIwEmAR0BHQEWAR0BEwEQAf0AEAH9AAABAAH3APoA9AAAAecA8QDqAP0AAAHxAOoA4QD3AO4A5wDqAOQA+gDxAPcA+gD0APQA+gANAf0ABAH0APoAAAEAAQQBFgEKAfoABwH3AAcB9wD3AAcBHQEKAQ0BEAEKAQ0B/QAKARMBFgEQAQ0BDQEEAQQBAAH0AOoA9AAAAfoA9wDuAP0A9wDxAPQA+gD9AAQBAAEEAR0BEwEWARMBEwETASABEAENARMBDQEQAQQB8QDqAO4A6gDxAPQA+gAEAeoA5wDxAO4A+gD0APoABAEKAQcBBAH9APcAAAEEAQoBBAEHARMBCgEEAQQBBwEKAQcBBAENARMBEwEQAQ0B/QD9AP0AAAEAAe4A9AD0APQA5wDuAOEA5ADVAN4A4QDhAO4A8QD0APEA9wD9AA0BBAEAAQ0BEAEZAQ0BAAH9APQACgH9AAAB+gAAAf0AAAH9AO4A9wD0APoA9AD9AAQBCgH9APcA+gD3AP0A9wDqAPcA9wDxAO4A4QDYAOoA8QDxAPEA8QD6APcA/QD3AAoBEwEdASMBIAEZAR0BHQEgASABIwEmASYBJgETARkBEwEQARkBEwEQARABGQEWARABEAEQAR0BDQETAf0ABwH6APoA+gD9AAQBBAEEAf0ABAEAARABDQENAQ0BEAETARMBIwEmAS8BPAEzATkBJgEdAQ0BEAEdASABKQEQARMBAAH6APQA9wAAAQQBCgENARABBAEHAQoBEwETASMBIwEdAQoBBwEKAQ0BEwEKAQ0BCgEHAQABBAEHAQABBAENARABGQEWASABHQEpATMBLwEvASYBLAEsASwBMwE2AS8BLwEmASkBHQEgARkBFgEWARYBLAEmASkBIwEvAS8BKQEmASMBJgEsASwBKQEjASwBHQEWARMBCgEWAQoBEAEKAQABAAH9AP0ACgEKARMBEwEKAQAB+gAHAQQBCgETASkBJgEmASYBLwEzATwBRQFFAUwBPwFCAUgBTAFMAVsBUgFSATwBLwEgARMBEwEWARkBCgH6AOoA4QDRANEAzgDVAN4A6gDnAPEA5AD6AAQBGQEmATMBMwEmATkBOQFPAVgBbgFrAWgBVQFMAS8BIwEZASMBIwEWAQQB7gDbANUA3gDbAN4AzgDOAMUAzgDIAOoA9wAdATkBTAFVAVsBZQFrAYEBhwGdAZcBoAGRAZEBgQF3AV4BUgE8ASMBDQEAAfEA4QDeANEA3gDRAOQA5ADqAPoAEAEpAUUBVQFiAWUBbgFoAWgBawFYAU8BOQEpAQ0BAAHhANEAwgC7ALgApgCWAIwAlgCfALsA1QDxAAABMwFIAWgBewGBAYoBhwGRAaABoAGgAZ0BmgGUAXQBYgE5AR0B9ADuAOEA2wDYANsA2wDVANgA0QDYANEA4QDuAPQABAEEAQABDQEHARABEAEAAfoA3gDLALsAuwC/AMIAuwC4ALIAsgCmAKYAmQCWAJ8AnwCyALUAuwDOANgA2ADbAMUAwgC/AMIA1QDkAOcA9ADqAPcA8QDxAPcA7gAAAf0ABAEHARMBIwEvAUUBWAFbAVIBOQE5ATwBOQFMAWUBdwF+AXsBdwFrAUgBWwFiAW4BdAFuAW4BZQFiAXEBhwGXAaMBpgGtAZ0BkQGXAaYBswHMAeUB7wHrAe8B3AHPAcABqgGtAaMBqgG5AcYB1QHVAc8BtgGaAYEBgQGNAaoBxgHVAeIBzwHMAbYBswG5AdwBCAIOAhEC8gHAAaoBoAG2Ac8B1QHJAbMBhAFYATYBLAFCAVsBgQGKAXcBTAEjARABBwEQASYBLwE8AUwBXgFbAVUBQgEpARYBEAEZASABHQETARYBBAHxAOQA1QDYANsA5ADkAMgAlgBtAFEASABaAHoAnACvAKkAnABzAEQAJQAcADUAYQCWALsAyACcAHAASAArADsATgBqAHAAZwBUADUAFQD9//H/7v/6/wAA+v/u/9j/1f/n/wMANQBdAIAAkwCpALIAxQDIAO4ALAF7AdkBKgJiAm8CaQJQAkMCNwI3AkkCbwKVAqsCrgKYAlwCFwLfAcMBswG5Ac8B3wHiAdIBwAGUAX4BewGRAbMB2QHyAfUB+AEBAiECTQJ1ApgCpAKbAoICWQJAAicCIQIhAiQCCwLfAZQBNgHbAIMAQQAJANv/o/9q/yj/6v6e/lb+Ef7f/b39rf2n/ar9s/29/cn93P3s/fj9Ef43/nb+uP4A/0H/ev+p/9j/DwBRAIwA0QATAUIBZQGEAaABvAHcAQECKgJAAlMCUwJcAlkCWQJfAmYCXwJTAkYCMwIhAhECCAL7Ae8B3wHMAbABkQF0AWIBTAFCATkBLwEdAQcB9ADeAMsAtQCmAJMAgwB9AHoAegB3AHcAcABnAFcASAA7ADUAOABBAEsASwBLAEgARABEAEQAQQA7ADUAOwBBAE4AXQBnAGoAbQBtAG0AbQBzAIMAlgCpALIAuwDFAMsA0QDbAOcA6gDuAPoABwEWASABLAEvASwBLAEsASkBJgEjAR0BHQEZARkBHQEZARYBDQEEAfQA5wDeANsA2ADbAN4A3gDbANsA3gDhAOQA5wDqAO4A7gD0APoA+gAAAQABBAEHAQcBDQENAQoBBwEEAf0A9wD0AO4A5wDeANgAzgDFAL8AuwC4ALgAtQC1ALIArACsAK8AqQCpAKYAqQCsAK8AtQC7ALsAuwC7ALsAuwC/AL8AwgC/AL8AvwDCAL8AvwC/ALsAtQCyAK8ArACpAKwArACvAK8ArACsAKwArwCvAK8ArwCyALIAtQC7ALsAuAC4ALUAtQCyAK8ArwCyALIAsgCyAKwApgCfAJ8AnwCcAJkAmQCWAJYAlgCWAJYAkwCTAJMAkACTAJMAlgCZAJwAnwCfAJwAmQCZAJkAmQCcAJ8AnwCfAJ8AogCiAKIApgCmAKYAogCiAJ8AogCiAKYArACvAK8ArACsAKwAqQCpAKwArwCvAK8ArwCvAKwAqQCpAKYAogCiAKIApgCmAKYApgCmAKYAogCiAJ8AnACcAJ8AnwCfAJ8AnwCfAKIApgCpAKwArACpAKYAogCfAKIApgCsAK8ArwCvAKkApgCpAKwAsgC1ALsAuwC4ALUAsgCvALIAsgCyALUAtQC1ALUAtQC1ALUAtQC4ALUAtQCyALIArwCvALIAtQC4ALgAuwC7AL8AvwC/AMIAwgDCAMIAwgDFAMUAxQDIAMgAxQDCAMIAvwC/AMIAwgDCAMIAvwC7ALsAuwC7AL8AvwC/AL8AvwC/AMIAxQDIAMgAywDLAMsAyADIAMgAyADIAMgAxQDCAL8AvwC/AL8AvwC7ALsAuAC1ALUAtQC1ALgAuAC7AL8AvwC7AL8AwgDIAMsAzgDRANEA0QDVANUA1QDVANUA1QDYANgA2ADYANUA0QDLAMgAxQDFAMUAxQDFAMIAvwC/AL8AvwDFAMgAyADIAMgAxQDFAMgAywDRANUA1QDYANUA1QDRANEA1QDVANUA1QDRAM4AyADIAMgAywDOAM4AzgDOAM4AzgDRANUA2ADbAN4A2wDbAN4A4QDnAO4A8QD0APQA8QD0APcA+gAAAQQBBAEAAQABAAEAAQQBBwEHAQcBAAEAAf0AAAEEAQcBCgEKAQQBAAH9AP0A/QAEAQoBDQENAQ0BCgEHAQoBDQETARYBFgETAQ0BBAH9APoA/QAAAQQBAAH6APEA5wDhAN4A3gDhAOEA4QDbANUAzgDLAMsAywDOAM4AywDFALsAtQCvAKwAqQCmAJ8AmQCTAIwAhgCAAH0AfQB6AHcAcwBwAG0AagBqAG0AbQBzAHoAfQCAAIAAgAB9AIAAgACGAIkAjACMAIkAhgCDAIMAhgCQAJkAnwCiAJ8AnACZAJwApgCyAMUA1QDhAOQA5ADhAOcA8QAEAR0BLwE8ATwBOQEzAS8BNgFFAVUBYgFoAWsBaAFlAWIBaAFuAXQBfgGEAYQBgQF7AXQBawFoAWUBZQFoAW4BdAF7AX4BdwF0AXQBewGKAaMBwwHfAfUBCAIRAhoCKgJGAnUCpwLaAvkC/wLzAtoCxwLAAsoC0wLTAsACkQJQAggCxgGUAXEBUgEvAQABuABnABUA2P+m/43/gP90/2T/Tv8y/xn/Cf8J/xz/OP9X/3T/if+W/6b/vP/Y/wAAJQBRAHcAmQC7ANsA/QAdATkBTwFoAX4BlAGqAcABzwHVAdkB1QHSAc8B0gHVAdUBzAG8AaMBhwFuAVsBTAFCATYBJgETAf0A5ADRAMUAuwC7AL8AvwC7ALIAqQCiAKIApgCyALsAwgDFAMUAwgDFAMgAzgDVANgA2ADVANEAyADFAMIAvwC/ALsAtQCvAKIAmQCMAIMAegBtAGcAXQBUAEgAOwArACIAGQASAAwACQADAAAA/f/3//f/9//9/wMADwAZACIAKAAuADgARABUAGQAdwCGAJAAlgCcAKIArAC4AMgA1QDeAOEA4QDkAOQA5wDuAPQA+gD9AP0A+gD3APQA9AD6AP0AAAH9APoA8QDqAOQA5ADhAOEA3gDYAM4AwgC7ALUAsgCyAK8ArACmAJwAlgCTAJAAjACJAIYAgwB9AHcAcwBwAHAAcABzAHAAcABtAGoAZwBnAGoAagBtAG0AbQBwAHAAdwCAAIYAiQCMAJAAkwCWAJkAnwCmAKYAqQCpAKwArACyALgAvwDFAMUAyADIAMgAywDRANgA4QDkAOoA7gD0APoAAAEHAQ0BFgEZASABIwEmASYBKQEsAS8BLwEzAS8BLwEvASwBKQEmASMBIAEgAR0BGQEWARMBDQENAQoBCgEHAQcBAAH9APoA9ADxAOoA5wDkAN4A2ADRAMgAvwC4ALIArwCpAKIAmQCQAIYAgAB6AHoAdwB3AHMAcABqAGoAagBtAHAAdwB6AH0AfQB9AIAAgwCJAJMAlgCcAJ8ApgCpAK8AuADCAMsA1QDeAOQA6gDxAPoABwETASMBLwE8AUUBUgFeAWsBdwGEAZEBnQGjAa0BswG5AcAByQHPAdUB2QHcAdwB3wHfAd8B3AHZAdUB1QHSAc8BzAHGAcABuQGzAa0BqgGmAaMBoAGdAZcBjQGHAX4BdAFuAWsBZQFbAU8BQgE2ASkBHQETAQoBAAH3AOcA1QDCAK8AnwCTAIYAegBwAGEATgA+AC4AIgAVAA8ACQAAAP3/9P/n/9v/0v/L/8j/y//O/9X/2P/b/97/5P/u//r/CQAcADIARABaAG0AgwCcALUA1QD3ABkBOQFVAXEBigGmAcAB2QH1AQ4CJAI3AkYCUwJcAmICbAJyAngCfAJ8AnwCdQJsAmICWQJNAkACMwIkAhQCAQLvAdkBwwGtAZcBhAFuAVsBRQEsARMB/QDkAM4AuACmAJMAgABwAF0ATgA+ADIAJQAcABUADwAJAAMAAAD6//T/8f/x//H/9P/0//f/9//3//r/+v8AAAAABgAMAA8AFQAcACIAKAAyADsASABRAF0AagBzAIAAjACcAKwAuwDLAN4A6gD6AAcBEwEjAS8BPwFMAVgBZQFuAXcBhAGNAZcBnQGmAa0BsAG2AbYBuQG8AcABwAHDAcMBwAG8AbkBtgGwAa0BpgGgAZoBkQGEAXsBbgFiAVgBTAE/AS8BIwETAQQB9ADkANgAyAC4AKkAmQCJAHoAbQBdAFEARAA4ACsAIgAVAAwAAwD9//f/8f/r/+T/3v/b/9j/1f/V/9X/1f/Y/9v/4f/n/+7/9/8AAAYADwAcACUANQBBAFEAXQBtAH0AjACcAKwAuwDOAN4A7gD6AAcBEwEgASkBNgFCAUwBVQFeAWUBawFxAXcBfgGEAYoBjQGRAZQBlwGXAZoBnQGgAaMBowGjAaMBowGgAaABnQGdAZ0BmgGXAZEBjQGHAYEBewF3AXEBawFiAVsBUgFIAT8BOQEvASYBHQETAQoB/QD0AOcA3gDRAMgAuwCvAKYAmQCQAIMAegBwAGcAWgBRAEsAQQA7ADUALgArACgAJQAiACIAIgAlACUAKwAuADIAOAA7AEEASwBRAFoAZABtAHcAgACJAJMAnACmAK8AuwDFANEA2wDkAO4A+gAEAQ0BGQEjASwBNgE8AUUBTAFVAV4BZQFrAXEBdwF+AYEBhAGHAYoBjQGRAZEBkQGRAZEBkQGRAY0BigGKAYcBhAF+AXsBdAFxAWsBZQFbAVUBTwFIAT8BOQEvASYBHQEQAQcB/QD0AOoA4QDVAMsAvwC1AKkAnwCWAJAAhgB9AHMAagBhAFoAVABOAEgARAA+ADsANQAyAC4AKwArACsALgAuADIANQA4ADsAQQBIAE4AVwBdAGcAcAB6AIMAkACcAKkAtQDCANEA2wDnAPQA/QAKARMBIAEpATMBOQFCAUgBTwFSAVgBWwFeAWIBZQFlAWUBZQFlAWUBYgFiAV4BWwFbAVgBVQFSAU8BTAFIAUUBQgE/ATwBOQE2ATMBLwEpASYBIwEgAR0BGQEWARMBDQEKAQcBAAH9APcA8QDqAOQA3gDYAM4AyAC/ALgArwCmAJwAkwCJAIAAdwBtAGcAXQBUAEsARAA+ADgAMgAuAC4AKwArAC4ALgAyADUAOwBBAEsAVABdAGcAcwCAAIwAmQCmALIAwgDOANsA5ADxAPoABwEQARkBIAEmASwBMwE2ATkBPAE8AT8BPwE/AT8BPwE8ATwBOQE2ATYBMwEvASwBLAEpASkBJgEmASYBIwEjASMBIwEjASYBJgEmASkBKQEsASwBLAEvAS8BLwEzATMBMwEzAS8BLwEsASkBJgEgARkBEwENAQcBAAH3AO4A5ADbANEAyAC/ALUArACiAJkAkwCJAIMAgAB6AHcAcwBwAHAAcABwAHAAcwB3AH0AgACGAIwAkwCZAJ8AqQCyALsAxQDLANUA3gDnAO4A9wAAAQcBEAEWAR0BIwEmASkBLAEvATMBNgE5ATkBOQE2ATYBMwEzATMBLwEvASwBKQEmASMBIAEgAR0BHQEdAR0BHQEdAR0BGQEZARkBGQEWARYBEwEQARABCgEHAQQBAAH9APcA9ADuAOcA4QDYANEAywDIAMIAvwC4ALIArACpAKIAnwCcAJYAlgCQAIwAiQCGAIAAfQB6AHoAdwB3AHcAcwBzAHMAcwB3AHcAegB9AIAAgwCJAIwAkwCZAJ8ApgCsALIAuwDCAMgAzgDVANsA4QDnAOoA8QD0APcA+gD9AAABAAEEAQcBBwEKAQ0BEAEQARMBEwEWARYBGQEdAR0BIAEgASMBIwEjASYBJgEmASYBIwEgASABGQEWARMBDQEKAQQBAAH6APQA8QDqAOQA3gDbANUAzgDLAMgAxQDCAL8AuwC4ALUAsgCvAKwAqQCpAKYAogCiAJ8AnACcAJkAmQCWAJYAkwCQAJAAjACJAIYAhgCGAIkAiQCMAIwAkACTAJYAmQCfAKkArwCyALsAvwDFAM4A1QDeAOcA8QD3AAABBwENARMBGQEgASkBLwE2ATkBPAFCAUUBTAFSAVsBXgFlAWsBbgFuAXEBdwF7AX4BgQGBAYEBgQF+AXsBewF3AXQBcQFrAWgBZQFeAVsBWAFSAUwBRQE/ATYBLAEmAR0BEwEKAQQB+gD0AOoA5ADbANEAxQC7AK8ApgCfAJkAkwCMAIYAgAB6AHMAagBnAGEAXQBaAFcAVABRAE4ASwBLAEgASwBLAE4AUQBUAFoAYQBqAHcAgwCQAJwArAC4AMgA2ADqAP0AEAEjATMBRQFSAV4BawF3AYEBigGXAZ0BpgGtAbABswG2AbkBtgGzAbABqgGjAZ0BlwGRAYcBfgFuAV4BSAEzARkBAAHqANEAuACfAIYAbQBRADgAHwAJAPf/5P/Y/8j/vP+y/6//rP+y/7j/wv/O/9v/5//0/wAADwAiADgAUQBnAH0AkwCiALIAvwDOAN4A7gAEARMBJgE2AUIBTwFbAWUBcQF+AYoBlAGdAaMBqgGwAbYBvAHGAc8B2QHoAfIBAQIRAiQCOgJWAnUCmwLEAuwCGANEA3MDpQPaAxYEVQSQBMwE/gQqBUwFZQV4BYUFkQWUBZEFhQVsBUwFIAXuBLYEegQ8BPoDsgNjAxUDwAJsAhoCzwGBATkB8QCmAF0AEgDS/5D/VP8f/+3+wf6V/mz+RP4e/vz93/3N/cD9uv29/cP90/3i/fj9Ef4x/lb+fP6o/tf+Bv81/2T/k//C/+7/EgA7AGEAhgCmAL8A2ADqAP0ADQEdASwBNgE/AUUBSAFPAVUBWwFoAXEBgQGNAZoBpgGwAbYBwAHJAdIB2QHiAegB6wHvAe8B7wHrAeUB3AHPAcMBswGjAZQBhAF0AWIBTwE8ASYBDQH3ANsAwgCpAJMAfQBnAE4AOAAfAAYA9P/b/8X/r/+c/43/ff9t/2T/Wv9U/1H/Uf9U/1f/Wv9h/2r/dP+D/5P/pv+4/8v/3v/u//3/DAAfADIARABXAGoAfQCMAJkApgCyAL8AywDYAOEA7gD3AP0ABwENARYBGQEgASMBIwEjASABHQEdARkBFgETARABCgEHAf0A9wDxAOcA4QDeANgA0QDLAMUAvwC4ALIAqQCfAJkAkwCMAIYAgwB9AHcAcABqAGEAWgBUAFEASwBEAD4AOAA1AC4AKwArACsAKAAlACIAHwAcABwAGQAcABwAHAAfAB8AHwAiACUAKAAuADgAPgBIAE4AVABdAGcAcAB6AIYAkACZAKYArwC4AMUAzgDbAOcA8QD9AAcBEAEZASABKQEzATwBRQFPAVUBWwFiAWgBawFuAXQBdwF7AX4BgQGBAYQBhAGEAYEBgQF+AXsBdwF0AXEBbgFrAWgBYgFbAVgBUgFMAUUBPwE5AS8BJgEgARYBDQEEAfoA8QDnAN4A0QDFALgAqQCcAJAAgwBzAGQAVABBAC4AHwAPAAAA9P/k/9X/xf+4/6z/o/+Z/5b/k/+T/5P/k/+Z/5//rP+4/8j/3v/x/wYAHwA7AFcAdwCWALgA2AD3ABkBOQFYAXcBlwGzAc8B6wEEAh4CMwJJAlwCcgKCApUCoQKuAroCxALQAtYC4ALmAuwC7wLzAvMC9gL2AvMC8wLsAuYC3QLTAsoCvQK0AqcCmwKLAnwCbAJcAkkCNwIkAhEC+wHlAcwBswGXAXcBWAE5ARYB8QDLAKIAdwBLAB8A9P/F/5b/Z/87/wz/4P64/pL+c/5W/j3+K/4b/hH+Dv4R/hv+K/49/lb+dv6Y/r7+5/4S/0H/dP+m/9v/CQA+AHAAogDRAAABLAFYAX4BoAHDAd8B+AEOAiQCNwJDAlACWQJfAmICZgJiAl8CWQJTAkkCQAIzAiQCFwIIAvsB6wHfAc8BwAGzAaYBmgGNAYEBdwFuAWgBXgFYAVIBTwFIAUUBPwE8ATYBMwEpASMBHQEWAQ0BAAH0AOcA2wDLALsArACcAIwAegBqAFcASAA4ACgAHAAPAAMA/f/0/+v/5//k/+H/4f/k/+f/7v/0//3/BgASAB8ALgA+AE4AYQBwAIMAlgCpALsAzgDkAPQABwEWASYBNgFFAVIBXgFoAXEBdwF+AYQBhwGKAY0BjQGNAYoBigGHAYQBfgF7AXcBcQFrAWgBYgFbAVUBTwFIAUIBPAE2ASwBJgEdARYBDQEHAf0A9ADqAOEA2ADOAMIAuACvAKIAmQCQAIMAegBwAGcAXQBUAEsARAA+ADUALgAoACIAHwAcABkAFQAVABIAEgASABUAFQAZABwAHwAiACgAKwAyADgAPgBEAE4AVABaAGQAbQBzAH0AgwCMAJYAnACmAKwAtQC/AMUAywDRANgA3gDkAOcA7gDxAPQA9wD6AP0A/QAAAQABAAEAAQQBAAEAAQAB/QD6APoA9wD3APQA8QDuAO4A6gDnAOQA4QDeANsA2ADVANEAywDIAMUAwgC7ALgAsgCvAKkAogCcAJYAkwCMAIYAgAB6AHMAbQBqAGQAXQBaAFQAUQBOAEsASABIAEgASABIAEgASABLAE4AUQBUAFcAXQBhAGcAbQBzAHoAgACGAJAAlgCfAKYArwC1AL8AxQDOANgA4QDqAPQA/QAHARABGQEgASkBMwE5AUIBSAFPAVUBWwFiAWUBaAFrAW4BcQFxAXEBcQFuAW4BawFrAWgBZQFeAVsBWAFSAU8BSAFFAT8BPAE2AS8BLAEmASMBHQEWARABCgEEAfoA9ADuAOQA2wDVAMsAwgC4AKwAogCZAIwAgwB3AGoAYQBUAEsAQQA4AC4AKAAiABwAFQASAA8ADAAJAAkACQAMAA8AEgAZAB8AKAAyADsASABRAF0AbQB6AIkAmQCmALgAyADYAOoA+gAKAR0BLAE8AUwBWwFrAXsBhwGUAaABrQG2AcAByQHSAdkB3wHiAegB6wHrAe8B7wHvAe8B6wHoAeUB4gHfAdkB1QHPAckBwwG5AbMBrQGjAZoBkQGHAX4BdAFoAV4BUgFCATYBJgEWAQcB9wDnANUAxQCyAJ8AjAB6AGcAVwBEADIAIgASAAYA+v/x/+f/3v/Y/9L/zv/L/8v/y//O/9L/2P/h/+v/9P8AAAkAFQAlADIAQQBRAGEAcACAAIwAnACsALgAyADVAOEA6gD3AAABCgEQARYBIAEjASkBLAEvATMBNgE2ATYBNgE2ATYBNgEzAS8BLwEsASkBKQEmASMBIAEgAR0BHQEZARYBFgETARMBEAEQARABDQENAQoBCgEHAQQBBAEAAf0A9wD0APEA6gDnAOEA2wDVANEAywDFAL8AuACyAKwAqQCiAJ8AnACZAJYAkwCTAJMAkwCTAJMAlgCZAJwAnwCiAKYArACvALUAuwC/AMUAywDOANUA2ADeAOEA5ADqAO4A8QD0APcA9wD6APoA/QD9AP0A/QD9APoA+gD6APcA9wD0APQA8QDxAO4A6gDqAOcA5ADkAOEA4QDeAN4A3gDbANsA2wDbANsA2wDYANgA2ADYANgA2ADYANgA2ADYANgA2ADVANUA0QDRAM4AywDLAMgAyADFAMIAwgC/ALsAuwC4ALUAtQC1ALIAsgCyALIAsgCyALUAtQC1ALgAuAC4ALsAuwC/AMIAwgDFAMgAyADLAM4A0QDRANUA2ADYANsA2wDeAOEA4QDkAOcA5wDqAOoA7gDuAO4A7gDuAO4A7gDuAO4A7gDuAOoA6gDqAOcA5ADkAOEA3gDbANsA2ADYANUA0QDRAM4AzgDOAMsAywDIAMgAxQDFAMIAwgDCAL8AvwC/ALsAuwC4ALgAtQCyALIArwCsAKwAqQCpAKYApgCiAKIAogCfAJ8AnwCcAJwAnACcAJwAnwCfAJ8AnwCiAKIApgCmAKYAqQCpAKwArACvALIAtQC1ALgAuwC/AL8AwgDFAMgAywDOAM4A0QDVANgA2wDeAOEA4QDkAOQA5wDnAOcA6gDqAOoA6gDqAOoA6gDqAOoA6gDqAOcA5wDnAOQA5ADkAOEA4QDhAOEA4QDhAN4A3gDeAN4A3gDbANsA2wDbANsA2ADYANgA2ADYANUA1QDRANEAzgDOAM4AywDLAMgAyADIAMUAxQDFAMIAvwC/ALsAuwC4ALgAuAC4ALUAtQC1ALUAsgC1ALUAsgCyALIAsgC1ALUAuAC4ALsAvwC/AMIAxQDIAMgAywDOANEA2ADbAN4A4QDkAOcA6gDuAPEA9AD3APoA+gD9AP0AAAEAAQQBBAEHAQcBBwEHAQcBBwEHAQQBBAEEAQQBAAEAAQABAAH9AP0A/QD6APoA9wD0APQA8QDxAPEA7gDuAOoA5wDnAOQA5ADkAOEA3gDeANsA2ADVANUA1QDRANEAzgDOAMgAyADFAMIAwgDCAL8AvwC7ALgAuAC4ALgAuAC4ALgAuAC4ALUAtQC4ALgAuwC/AMIAxQDIAMsAzgDRANgA2wDeAOEA5ADqAO4A9AD6AAABBwEHAQoBDQEQARYBGQEdASABIAEgASABIwEjASYBKQEpASkBKQEpASYBJgEpASkBLAEvAS8BLwEvASwBLwEvATMBMwEzATMBLwEsASwBLAEvAS8BMwEvASwBKQEjASABHQEZARYBEwENAQoBBAH9APcA9ADuAOcA3gDYAM4AxQC7ALIArwCpAKIAnACWAJAAiQCGAIMAgwCAAIAAgACAAIAAgwCGAIwAkwCcAKIAqQCyALgAvwDIANEA2wDnAO4A9wD9AAcBDQEWAR0BIwEpASwBLwEzATMBOQE8AT8BQgFCAUIBPwE/AT8BPwE8ATkBOQEzATMBMwEzATMBMwEvASwBLAEpASkBKQEsASkBKQEpASwBLwE2ATkBPAFCAUUBTAFSAVUBWAFYAVUBUgFSAUwBTAFMAUwBSAE/ATMBKQEdARABDQEEAfcA7gDhANEAyAC7ALIAqQCcAJYAjACDAIAAfQBzAG0AbQBkAGEAYQBkAGQAagBqAG0AcwB6AIAAjACWAJwAqQCyAL8AzgDeAOoA+gAHAQoBGQEmATMBPAFIAVIBWwFiAWsBbgFxAXcBfgF+AYQBhAF+AXsBfgGBAX4BgQF+AXsBdAFxAXQBdAF0AXcBfgF7AXQBcQFrAWIBaAFoAWgBawFoAWUBYgFYAUwBPwE/ATwBNgEzASwBHQEQAQcBAAH6APEA6gDeAMsAvwC1AKwApgCmAJ8AjAB3AGQAVABOAEsATgBLADgAMgAuACgAKwArACsAMgA+AEQAVABdAFcAWgBkAHMAgwCTAKYAtQC/AMIA2ADqAO4AAAEWAR0BJgEmAS8BPAFMAVsBcQGBAYEBhAGaAaoBvAHPAd8B4gHcAeIB6wHvAfsBCAIOAhcCJAInAioCJAIkAicCLQI6Aj0CQAJDAjcCQwJJAkMCSQI9AicCFwILAv4B+wH+Ae8B3AHAAaABfgFiAUgBKQEEAecAyACcAIkAbQBIADIAFQD9/+v/0v+8/6b/jf9w/1T/SP81/yL/H/8i/yL/H/8i/y//Mv8y/0X/Tv8+/0X/Tv9X/4D/pv/L/+f//f8MABkAOwBdAIkAnwC/AN4A6gAHAUIBbgGKAbABxgHPAeUBBAIhAlACYgJfAnICfAKRArQC7wIPAyUDKwM7A2cDiQO1A+oD/QMABAAEHAQ/BF4EfQSTBKYEjQR9BJYEkASBBIQEjQSEBGsEZARIBCkE+gPXA8EDqAN8A1oDKwP2AsACjgJTAiQC1QGKAUwBCgGyAFcAEgC//2r/KP/R/n/+J/7c/af9hP1D/fT8nfw1/NH7hvtU+y77+frA+pH6XPok+vX56PnJ+Z35h/lo+V75Yfl++a354vkH+h36WfqL+tb6K/uP+/f7W/zC/Eb90P1A/rT+Tv+8/zsA2wBxAQECmAIoA68DKQTCBFYF4wVwBuoGUQeTB+EHLAhuCKoI7AghCTcJQwlACSEJ4giUCF8IBAipB3AHEgefBkEGygU9BbMEHASDA/YCcgIXAq0BOQG/ADIAnP81/9r+f/5N/g7+w/11/Un9Jv0K/eL83vzl/Mz82/wq/W/9sP0L/mP+if6l/vb+ZP/Y/4AAGQGqASECmAIVA5YD/QNhBNIEIAWRBUoGzgZUB68Hwge/B8UH6Ac8CKAI5QghCTEJ+wjWCLAIlAiUCLkIswikCFgI2wd9BxYH1AarBn8GOgbDBYEFTwXFBH0ERQSoAzEDCQMeAwwDGwNUAzsDngKNAZwApv9t/2EAQALIA/0DjgJn/yn8v/ks+cf67vxK/g7+efsV+Ib0gPHN8C/yXPOk8/XzW/IA76Ts3uuz697rK+0M7tHtWu1m7bHtDO4A7zfwSvFh8k/zefQK9r73rflt+zP9if5O/xABFQM9BeQHCQpSCz0M1gzEDXsPSxELE4kU5xSrFFEURxSPFF4VSRabFlkWQhW3E2USURGoEHkQIRBJD/ANKgxLCpQILAdBBkkFRQQiA/gBpgBt/1b+Sf07/E37jvrf+WX5IPnq+L/4ifg1+O33x/ex9/z3nPgd+aP5M/qe+tn6cPsQ/LP8XP3v/Zv+Gf+f/1oA+gB+AfsBXAKRAsQC7wIuA2cDjAOfA48DbQMxAxgDDAP5AtYCrgJcAvsBxgGHAVUBNgEKAdEApgCAADsADwDn/7X/o/+1/7L/n/+Q/33/av9O/3D/mf+p/7j/y//S/8X/2P/3/ysALgBIAGQAVABdAHMAiQCMAH0AcABaAE4AVwB3AHoAbQBOADUAAADn/8v/y//L/8X/y//L/7//lv+c/5z/ff+D/4b/jf+j/7//zv/k//f/+v8fAEgAXQCJAKYAuwDbAP0AEAE8AVgBYgGKAaoBswHMAeIB2QHMAbwBowGHAYEBigGjAbMBpgGRAVsBNgEdASYBJgEmASYB+gDqAPoADQEgAUIBPAEQAeoA0QDxABMBMwFlAYEBYgFSAWgBdAF0AZEBpgGdAaMBoAGtAcYBuQHGAcwBvAGgAa0BoAGdAbkBuQG8AbwBswG2AckB2QHiAeUB6AHZAc8BzAHfAegB6wH7AQQC6AHiAd8BzwG2AcABwwG2AcMBzAHGAcAByQHPAcYB4gH4ASECPQJAAlACaQJsAqQC7AIbA0cDYwN2A5IDqAPRAxAEPwReBJAEowS/BNgEEQU9BWUFjgWLBYsFdQVoBYgFjgWtBcMFzQW9BbQFlAV4BUwFLQUnBfsECgXoBM8EvAR9BFIEHATwA6sDpQOWA4kDgANzA1oDAgMCA90C4ALaAsoC0AKLAmICNwIOAsMBhwEQAbsAagDY/5n/A/9d/oH9k/zz+yv7ZfrP+RD5mPca9mD0qfJw8crwFfF28ajxAvGt77vtmet86lrqMus57GztA+727Y/txO3C7vjvFvIx9I31p/Z894z4Q/ru/Lz/pwIjBbsGyAcbCdQK4wx4D/ERuhPIFGEV6BV4FnMXhhhiGaoZUhl9GH8XyhY9FgEWjRWlFCoTKBEUDyUNlwuDClwJDQhmBmcERgKJABn/Ef5G/WT8VPsU+sX4q/fl9nj2WPZS9kL2IPYB9vT1JvaO9v72fPf29zv4svhl+UD6Svth/Fn9CP6M/gn/if8lAO4AzAGRAlcD5ANkBNsEHQVcBZcFoQWnBcYF3AX8BSsGPQY0Bv8FtAVcBREF0gSTBHoEQgQNBNcDiQNdAx4D3QKhAlYC/gGzAYEBTwFFASMBDQHuALsAkwB6AF0AOwArAA8A9P/0//r/AwAVACIADwADAOT/1f/S/9j/9/8GABkAHAAPAAMAAAD6//T/+v/n/97/2P/S/9L/4f/3//f/7v/Y/7L/kP90/23/dP93/23/av9a/1r/VP9e/2f/ZP9X/1T/Tv9L/07/ZP+D/5b/tf/L/97/6//6/wkAHwA7AE4AagCDAJ8AvwDeAP0AEAEgASABLwE8AUgBXgFuAYEBkQGqAbkBzAHJAbkBtgGqAaMBrQHGAc8B0gHSAcYBwAGtAbABvAHGAckBxgHGAbMBrQG2AcABxgG5AaYBlAGHAX4BlAGgAaABjQF+AW4BWAFVAVUBWAFMATYBIwETAQQB+gAAAfcA5ADLAKkAiQBwAGEAYQBaAEsALgAfAAYA/f8AAAAA+v/n/9L/vP+y/6n/uP+1/7X/r/+m/5z/mf+m/6z/uP/I/8L/vP+1/6//r//C/9X/8f8GABwALgA7AFEAZwB6AJYApgC1AMIA0QDkAP0AFgE2AUIBUgFeAV4BWwFeAWgBaAF3AYoBjQGXAZQBigGEAYEBdwF3AXQBawFiAVsBXgFeAVgBYgFbAU8BPwE2AR0BEwEKAQcBCgEQARABEwEWAQoB/QD6AO4A4QDhAOQA9AAEARYBLAEsASYBIAETAQoBCgETASMBPAFMAWIBdAF0AXQBdwFxAXEBbgF0AXcBhwGUAaYBwAHMAdkB3wHoAe8B+AEEAhoCMAJGAlwCdQKCApUCqwLEAuMCAgMeAy4DMQM4AzQDRwNdA3wDogOyA7IDogODA2oDVwNXA10DagNtA20DVwM4AxUD4AK3AoICXwI6AhcC/gHoAc8BswGEAUUB/QCsAFoAHADr/8L/mf9t/zj/8/6o/mD+Dv7J/XL9IP2//F78EPza+8j71Pvn++r7u/ta+9P6TPr++fj5Pfq6+kH7mfvO+8T7pfuZ+5/72vs4/KP8I/2L/QL+ef72/nr/AABzAMgAEAFIAY0B+wGIAi4D3gOBBO4EOQVcBVwFXAVoBYUFtAXsBR4GRwZaBlYGOgb/BaoFQAXFBFUE+gO7A5IDgANdAyUDzQJZAskBRQHIAGcAJQAAAO7/2//L/7X/k/9q/z7/Ev/n/tH+wf7N/vP+Jf9q/6b/4f8GABkAJQArADsAYQCcAO4ATwGzAQsCWQKRAroC1gLpAgIDIgNHA4ADuAP9AzwEawSNBJYEkwR9BGcEUgRCBEIESwRhBHcEhwSEBHEERQQQBNcDogODA3ADagNqA2MDVAMxAwIDzQKOAlYCHgLyAcwBpgGHAWsBTwEsAQcB2ACiAGoAKwD9/9X/v/+4/7X/uP+1/6b/jf9n/0H/Gf8G//b+/P4P/x//OP8+/z7/Nf8o/xz/D/8M/wb/Cf8S/x//O/9X/3D/hv+N/4b/ff93/3T/ff+T/6//0v/u/wYAGQAlADIAOABBAEsAWgBqAHoAmQCvAM4A6gAEARABGQEdAR0BIAEpATYBTAFeAXQBgQGNAZEBlAGUAZEBkQGKAYQBgQF+AYEBigGNAY0BhAF3AWIBTwE/ATMBLwEpASMBGQENAf0A7gDkANgA1QDLAMsAywDFAMsAzgDRANUA0QDRAM4A1QDeAOcA9wAHAR0BLwE/AU8BWAFiAWsBbgF7AYQBlwGtAcYB3wH4AQgCFAIXAhcCGgIeAiQCMAI6AkMCRgJQAlACVgJWAlMCTQJAAjACHgILAvsB6wHcAckBswGXAXEBTAEmAQAB3gC/AJkAcwBLAB8A9//V/6//kP90/1T/Nf8W//b+4P7R/sH+uP6r/p7+mP6M/oz+j/6S/p7+pf6u/rH+u/7H/tf+8P4J/yj/Rf9h/33/k/+s/8L/2//x/wMAGQA1AFEAdwCcAL8A5AAAARMBJgEzAUIBWwF7AaABxgHoAQsCKgJJAmYCiAKkAscC6QIFAygDRwNqA5IDuwPhAwMEJgQ8BFIEZwR9BJYEswTSBOgE/gQHBQoFBwUBBfQE7gTlBN8E0gTCBLMEnQSBBF4EOAQNBNoDqANwAz4DDwPjAroCiwJcAicC6wGtAWsBKQHkAKkAagAuAAAAy/+Z/2r/OP8D/83+mP5m/jf+Dv7p/c39t/2n/Zf9lP2O/ZH9lP2a/aT9s/3A/dz9+P0k/lP+jP7B/vn+K/9a/4b/tf/u/yUAZwCsAOcAIwFYAYQBswHfAQsCOgJpApECtwLWAu8CAgMSAx4DKwMuAzQDNAMxAygDGwMFA+YCxAKeAm8CRgIUAuUBswGEAVUBLAEHAecAxQCiAHMAPgAAALz/gP9U/zj/Nf8+/0X/SP84/xL/4/6r/nP+Sv4k/g7+//3y/en94v3f/d/94v3f/dz92f3J/cP9wP3Q/e/9JP5g/qv+8/47/3f/r//h/xIAUQCWAOQANgGKAeIBMAJ4Ar0C/AI0A3ADrwPqAywEZwSdBM8E9AQUBS0FQwVWBWgFdQV7BX4FdQVoBVIFOQUdBf4E1QSpBHEEMgTtA6gDYwMiA+MCpAJiAhoC0gGEATkB9ACyAH0ASwAcAPH/wv+Q/2H/Mv8G/+P+xP6u/p7+kv6J/oL+f/5//n/+gv6J/pX+pf67/tf+/P4r/2H/lv/V/wkASACAALgA9AAvAW4BsAH1AToCfAK9AvYCKwNaA4YDrwPUA/cDEwQvBEgEXgRxBH0EhASKBIcEfQR0BGQEVQRFBDUEJgQNBPADzgOiA3ADPgMFA9MCoQJvAj0CDgLZAaMBaAEsAfEAsgBwADUAAADI/5n/cP9I/yX/A//g/rv+kv5s/kf+JP4I/vL93/3T/cn9w/3A/b39uv26/bf9uv26/cb90/3p/QX+J/5E/mb+jP6r/tH++f4i/1H/gP+y/+f/GQBLAIMAuADuACMBVQGEAbMB3wELAjoCZgKRAroC4AL/AhsDOANKA2ADcAN8A4kDjAOPA4wDiQOAA3YDagNdA0oDOAMbA/8C4AK6ApECaQI9AhEC5QG5AY0BYgE2AQoB2wCvAH0ASwAcAOv/vP+N/2H/OP8S//P+1/6+/qL+jP5z/l3+Sv46/jH+K/4r/i7+N/5E/lb+bP6C/pv+uP7U/vP+D/8v/1H/dP+W/7//4f8GACsAUQBzAJkAvwDhAAABIwFCAWIBgQGjAcMB6AEIAioCSQJpAoUCoQK9AtoC9gIMAyUDOANKA10DcAN8A4wDmQOiA6sDsgO1A7gDuwPBA8UDywPRA9QD1APUA9QD0QPRA84DywPFA8EDuAOvA6UDlgODA3ADVwM7Ax4D/wLaArcClQJvAkYCIQL1Ac8BqgGEAWIBPwEgAQAB5ADLALIAnACJAHoAZwBaAEsAQQA1AC4AKAAlACUAJQAiACIAHwAfACIAKAAyAD4ASwBdAHAAgwCWAKwAwgDYAPEABAEZASwBPwFMAVgBYgFoAWgBZQFeAVIBQgEvARYB/QDhAMIAogCAAF0AOAASAPT/0v+y/5P/ev9h/07/O/8o/xn/Bv/5/ur+3f7U/sr+xP6+/rv+u/67/rv+vv7B/sf+zf7a/uf++f4P/yv/SP9q/5D/tf/b/wAAKwBUAIMArwDbAAcBLwFVAXcBlwGwAcYB1QHiAesB8gH1AfUB8gHvAegB3wHVAckBvAGwAaABlAGKAX4BdAFrAWIBWAFPAUUBPAEvASMBFgEKAf0A8QDnANsAzgDCALUArACiAJkAlgCTAJYAnACmALIAvwDOAOQA9wANASYBPAFYAXEBhwGgAbYBzAHfAe8B+wEEAgsCDgIOAgsCCAIEAv4B+AHyAegB3wHSAcwBwwG5AbYBsAGtAaoBpgGjAaABnQGaAZcBkQGKAYQBfgF3AW4BZQFeAVUBTAFCATYBLAEgARYBEAEKAQcBBAEEAQQBBAEEAQcBBwEKAQ0BDQEQARABEAEQAQ0BCgEEAfoA8QDkANgAyAC7AKwAnACQAIAAcABkAFcASwBBADgAMgArACgAJQAlACUAKAArAC4ANQA4ADsAQQBEAEsATgBUAFcAXQBhAGQAZwBqAG0AcwB6AIAAhgCQAJkAogCsALUAvwDIANEA3gDnAPEA/QAHAQ0BFgEdASMBKQEpASwBKQEpASYBIwEgARkBFgEQAQ0BBwEAAfoA9ADxAO4A6gDqAOcA5wDnAOcA5wDqAOoA7gDxAPEA9AD3APoA/QAAAQQBBwEHAQoBDQENARMBFgEZAR0BIwEmASkBLwEzATkBPwFFAUwBUgFVAVsBYgFlAWsBbgFxAXQBdAF0AXQBdAF0AXQBdAFxAW4BawFoAWIBXgFYAVIBTAFIAUIBPwE5ATYBMwEsASkBIwEgAR0BFgETARABDQENAQoBBwEEAQAB/QD6APQA9ADxAO4A6gDnAOcA5ADhAOEA3gDeANsA2wDYANgA2ADVANgA2ADYANsA3gDeAOEA4QDkAOcA5wDuAPEA8QD0APcA9wD3APcA9wD6APoA+gD6APoA9wD3APQA9ADxAPEA8QDxAPEA8QDxAPQA9AD3APcA+gD6AP0A/QAAAQABBAEEAQcBBwEKAQoBCgEKAQoBCgEKAQcBBwEHAQcBBwEHAQcBBwEEAQQBAAEAAQABAAEAAQQBBAEEAQQBBAEEAQQBBAEEAQQBAAH9APoA9wD0APEA7gDqAOoA5wDkAOEA3gDbANsA2wDbANsA3gDeAOEA4QDkAOcA6gDuAPEA9wD6AP0AAAEAAQQBBAEEAQcBBwEHAQoBCgENAQ0BDQENAQ0BCgENAQ0BEAEQARYBFgEdASABJgEsAS8BNgE5ATwBQgFFAUUBSAFMAUwBTAFMAUgBRQE/ATkBLwEpASMBHQEZARMBEAEKAQQBAAH6APoA9wD3APcA9wD3APcA9wD0APEA8QDuAO4A6gDnAOEA2wDYAM4AyADCAL8AuACyAKwAqQCiAKIAnwCiAKIApgCmAKwArACyALUAuwDCAM4A2ADkAPEA+gAHARABGQEgASYBLAEvATMBNgE5ATwBPwFCAUUBTAFPAVgBXgFoAXQBgQGRAZ0BrQG5AckB1QHiAe8B+wEBAggCCwIOAhECDgIOAggCAQL4Ae8B5QHZAcwBwwG8AbYBsAGtAaYBowGgAZ0BnQGdAZ0BoAGgAaMBowGjAaMBoAGdAZcBkQGKAYcBfgF3AXEBZQFbAU8BQgE2ASkBHQEQAQQB9wDxAOcA4QDbANgA0QDOAMgAxQC/ALUArACiAJYAjACDAHcAZwBXAEQAMgAcAAkA/f/x/+T/3v/Y/9j/2P/b/97/5P/u//3/BgAZACgAOABIAFEAVwBdAGEAYQBhAF0AVwBRAEgARABBAEQASABRAFoAYQBtAHcAgwCQAJ8ArwC/AM4A2wDkAO4A8QD0APEA7gDnAN4AzgC7AKIAgwBhADsAEgDu/8X/mf90/07/Mv8Z/wP/9v7q/uP+4P7g/ur+8/4D/xL/Jf81/0v/Xv93/5D/pv+8/9L/5P/6/w8AMgBRAIAArADkAB0BXgGgAegBMwKIAt0COAOSA+0DQgSWBOIEJwVoBaEF0wX/BRsGNAZEBlMGWgZjBmkGcAZ2BnwGhQaVBqUGuwbRBu0GBgcfBzgHUQdnB3cHgweKB4oHgwd3B2cHSwclB/YGvgZ/BjQG5gWOBTYF3wSKBDgE8AOoA2cDIgPgAp4CXwInAu8BswF0ATMB6gCfAFEAAACj/zj/xP5A/rr9Lf2d/An8dvvj+lP6zPlS+eT4g/gu+OP3pfdy91D3N/cq9x73Dvf79un2zPaz9pH2bvZG9iD29/XY9b/1vPXC9eH1EPZl9sz2Vvf297X4ivl4+nb7kPyt/dr+/f8jAT0CVwNeBFwFRAYZB9IHeAj+CHUJ0AkfClcKgAqcCq8KuAq+CsgKywrOCssKyArCCrsKrwqlCpYKgApdCjUK/Am3CWAJ+wiBCP0HZAfEBg4GVgWQBMsDAgNDAooB2wA4AKb/HP+i/kD++P3D/aT9i/14/Wj9Vf1D/Sb9B/3b/Kb8ZPwm/Nr7nPtX+yH77PrQ+rr6vfrW+gj7Tfu1+yn8xfxr/TT+A//n/8gAtgGhApkDgQRoBTcGAAesB1II4gh1CekJVwqvCv0KPwt+C7ML4gsBDBQMHQwdDBoMFAwHDPUL2Au5C5cLdwtVCywL/Qq7CnAKDwqoCTEJsAgaCHcHvgb1BR0FPwRNA1kCWwFnAHT/jP6q/dj8CfxK+5H67vlb+d74avgD+J73Ovfc9ov2QvYB9sL1g/VF9QP1xPSJ9FP0GPTm86fzePND8x3z9fLV8rbynfKE8nryd/KK8qDy0vIH81/zvfNK9OT0rPWE9oX3lvjP+RX7dPzQ/Sv/bQCmAcoC5wPrBNYFkgY1B68HHQh+COgIVgnHCTEKkwrxClULuQsnDJEM8gxEDXkNnw2rDZ8Ncw0uDccMRgytCwcLSwqCCacIywfnBhUGQwV9BLgD/wJDApoB9wBqAOH/Z//n/m/+/P2U/Tn96PyZ/E78CfzI+5L7avtU+0H7O/s0+z77Tft2+6j78PtF/K/8I/2z/UT+9v6s/30AWAFTAlQDcQSOBcEG7gcnCVEKgQuhDMENxQ69D5IQVBH0EYES6xJDE3UTixN8E1kTHhPZEo0SNhLVEWoR/BCMEBgQpA8jD5MO8w1BDYIMrQvLCsoJuQiGB0EG6ASDAxEClgAW/5f9Gfyx+lv5Ivj79u718/QY9E/znfLt8UrxofAB8GLvy+5B7rTtNO2q7Cbso+si65nqBepQ6X7ofedp5jnlE+Tm4uLh+uBq4CLgY+AZ4XXiTuTE5q7pGO3Q8N30/fgw/S8BBAVxCIoLEA4hEIkRcRLJErkSRRKcEcEQ3w/3DkIOuA2DDZUN+g2ZDm4PWRBXEUwSKhPQEzgURxT/E2ITdBJIEd8PVA6tDA0LfwkdCPMGCwZiBf4E0gToBCMFhQXpBUQGfwaPBnAGGwaLBb8EuAN4AhMBo/8n/sj8g/ty+pf5+vii+Jn43vho+TP6KPs//Fn9c/56/2cALwHJAScCUAJDAg4CvAFiAQQBtQB9AHAAjADhAF4BCALHAo8DUgQHBZsF/wUeBv8FiwXSBNcDtAJoAQkApf5V/SL8O/ue+mn6i/oY+/r7Q/3X/rIArgLCBMEGrQhdCt8LEg32DX0Orw6TDj8OwQ0oDYIM2AsvC6UKOAr5Cd0J6QkPCkQKhgrOCg0LRQtlC2gLSAsKC68KOAqoCQgJXwi1Bw8HdgbsBXgFHQXYBKkEhARkBEIEHAThA5kDNAO0Ag4CSAFnAHr/fP57/XT8efuF+rD59Phh+On3m/dm91D3Vvd296H31Pf/9yj4R/hh+G34avhU+C74/Pe+94j3TfcU98/2hPYp9t71k/Vb9SL17fSu9Hb0RPQr9CT0N/RK9GP0dvSV9Lv07fQl9V71ivW59ej1MPaH9vL2Y/fj93P4L/kE+hL7IvxM/Wz+o//RAB4CYAOQBJEFYAb5BncH1QcaCDAIHQjbB4YHNQf2BsoGsQaVBpIGnwbXBjIHowcQCHgIyQgXCVkJlQm6Cb4JjwlACd8IewgXCK8HNQeuBiQGrQVWBSMFCgX7BPQE+AQHBTAFZQWhBcYF3AXQBbcFjgVoBTYFAQW2BHEELAQGBPAD9wMGBC8EXgSwBBcFngUkBrEGNQeyBzYIwAhKCb4JEgpLCnYKogrOCgMLHAsmCxALAAvxCvoK9wr3CtgKrAp9CloKPgolCvwJwQlpCREJswhSCOgHVwe4BvkFQAV9BLsD5gL4Af0A/f8A/xH+I/0v/DH7Nvo/+W34rvcI92722/VL9cr0UPTc82zz7vJh8rXx+fAn8EzvXu5v7Yvsmeul6p7pfuhR5wjmteQ949LhV+AU3xbept283bDec+BE4xznCuzb8V34Rf9WBk0N/BMFGiwfDSNtJUImkiWgI6EgrRwAGMASVw0mCKgDFQCq/Tv86vuK/Df+wgAGBJ8HRQuQDnoRyhOHFYgWtBYEFpYUsxKbEIoOfgycCs8IVAdEBtAFygUhBmMGhQZjBg4GeAWjBG0DvAGW/xT9lPoi+Af2LvS28rXxPvFq8TnyhfM19fL24fi0+oD8CP41/+T/DADV/2T/2v5a/vj9t/3G/TH+DP99AGwCwgQ4B7cJBwwWDsYPDBG/EcsRHBHAD9cNmgs3CdcGmgSbAvoA4f9e/4n/OwBiAdMCbgQYBt4HdQnbCskLTAxlDEYMAQy5Cz8LvgofCpsJVglcCbcJHwp2CqIKkwp2CjgKtAnlCJ8HCwYcBDcCTgCJ/tv8YPsh+kL5y/iy+Pr4cfkt+gj7CfwX/Qj+wf4+/2T/SP/5/qL+6f0j/Sn8LvtM+pf5I/nb+Mv4yPjL+PH4Kfle+Yr5o/mN+U/55/hq+OP3U/fi9nX2JvYa9in2hPYY9/D37vgU+lr7qfzp/Sj/NQAdAd8BZgLQAhIDQQNXA1cDYwNtA5IDyAMWBG4ExQQXBVwFlAXDBdYFxgWtBXUFOQXoBKAEUgT3A7UDeQNXA0QDLgMiA/8C5gLaAt0C4wLsAtACrgJ8AkYCGgLvAbkBZQH3AIAACQCm/1f/DP++/l3+C/69/Yv9eP1v/WL9TP05/TP9Sf1v/af94v0h/mD+ov7q/j7/jf/S/w8APgB6ALUA/QA2AXcBsAH+AVYCtAIeA3YDywMTBFgEswT+BFYFjgW9Bd8FCAZBBnkGqAbUBvAGCQcsB0sHcAemB8UH8QcTCEIIWwhuCHgIeAh7CGsITAgpCP0HwgeAB0UHDwfOBnkGFQakBTkFyQReBPADgwMeA70CXwIaAswBhAEvAdsAiQBRABwA5P+v/3f/KP/j/qv+Zv4r/tb9cv0U/ab8P/zh+4n7N/vy+pv6QPru+Y35Ofnx+Kn4Z/gl+O33sfeI91z3UPdK91D3Wfdy95L3yvcJ+FT4pfgD+VX5qvn7+UD6f/qx+uz6HvtE+237j/uy+937H/xh/LP89/xG/Yv95v1H/sf+OP+m//3/SwCJAN4ALAGNAdwBJwJpAsACGwOfAykEvwRMBdYFUAbKBjUHgAepB7UHpgeZB4AHbQdbBz4HNQc4B1EHlgf9B2sI4ghQCboJDwpLCokKmQqTClcK4Ak3CWUIkwfBBgIGSQWHBKsD7wJcAgQC9QH1AQgC6AHcAeUB+wEIAv4BtgGHAZ0BJwI+A5AE9QVhBxEJTwvzDV0Q8REzEgYRFA/QDIAK9Ae8BLgAW/yQ+CD2PvWs9Yf2q/cW+Rv7CP68AWwFhAiMCvgLHg0iDtUO/g4WDp4MDQvzCWwJKgm9COEHLAftBoYHzAguCvcKJgsACwALSAuBC1ULJQoHCGUFrgIfAK39Evsu+E71sPLN8KrvLO8j71jv9e8F8YTyPfTu9UD3OPjb+DL5Zfks+X34Wffh9Uf0s/JO8Qjw2+7R7QXtb+ww7BfsJuxG7HXsxuw67crthu5C7zTwXfHS8oL0bvZz+JT6rPza/vEA+QLJBGMGnwezCH8JIgp9CpwKjApqCjEKAgrgCbcJiwljCVkJYAmFCasJxwngCfMJEgo+CnAKjAqcCnoKSwoMCrQJXAnoCFUIrwcPB4IGDga0BWgFIwXbBJoEWwQpBPQDuwNzAxsD0wKLAkYCFALvAdUB0gHVAQECSQK3AkcD5AOTBE8FGwbjBrIHawj7CFYJhQmPCYsJcgk9Ce8IkQgjCMUHhgdtB2cHegeWB84HKQizCFAJAgqfCj8LyQtPDL0MCw0xDSUN6QyODCQMrQsWC2oKrgnoCDMIlgcGB3kG7wVfBdgEYQTnA3YD9gJ8AvUBZQHYADIAlv/j/kf+rf0d/Yf85/s++4v66/lV+dT4Tvi69xj3dfbe9WT1APWr9Ff0+fOk81zzNvMg8xfzFPP18sbymvJu8kXyHPLq8azxY/El8fPw3fDK8MTwpPCI8EbwC/C572Xv/e6N7h/u0e2e7cftKO707gHwj/Fs88L1YfhE+0D+TAFLBCgH0wkwDBwOlA95EOAQxBBHEFUPEw5yDKwKwAjqBi0FsgNyAoEB5ACmAMUATwEaAiUDWASwBQ8HewjHCf0K+AvHDGMN1A0JDgYOwQ1EDaEM3wsQCy4KQAlJCFEHaQaIBbkE/QNHA6sCJAK8AWsBKQHxALsApgCpANUAGQFxAcMBJAKOAh4DxQOBBEAF8gWMBi8HxQdfCNwIRgmLCbEJugm3CZ4JfwlDCfgIrQhbCCAI8QfbB84H2wf6Bz8IqggkCboJRwreCmsL+wuODBINgw3ODf0NBg79DeENqw1pDQUNiwz1C1ILtQoSCnwJ1ggzCI0H7QZTBsMFPQWzBCYEmQMJA4UC/gGBAfcAcADY/0X/sf4n/p79B/1n/L77Evtv+uL5Yfnk+Fr40Pc997r2QvbP9WH13fRd9M3zVvPf8nTyEPKs8V3xDPHd8K7whfBc8DTwBfDP76Pvce9M7yzvGu8a7yDvQu9e75rvye/47wHwC/Di78bvlO+E73vvl+/S71nwK/F68h70IPY4+Gz6jfzU/hYBbQOFBVcHuQjKCa8KhwtPDPkMVw2GDXwNkg2fDc4Nyw2lDUQN3AyIDEYMDgy/C08L0QpnCkQKPgpdCl0KRwoSCvMJ9gkCCvwJuglNCckIUggBCNIHpgdeB/0GpQZmBk0GNAYLBrQFMwWgBAAEdgPmAk0CoAH9AHMADADY/87/2//x/wwATgCpADwB3wGRAj4D6gOmBIEFhQajB70IxAmpCnoLPQwCDbUNRQ6sDuUOCg8qD1UPiw+zD8MPvQ+3D60PrQ+dD3sPIw+yDjUOyw1jDQgNpww6DMMLSwv0CqwKbQoVCqQJFAmBCO4HXgfHBiEGWQWdBOEDRwOuAicCigHeACsAif/a/iv+Zf19/IP7iPqX+bv43fcL9y32ZPWo9P/zX/PJ8jXyqPEx8b3wU/D176Pvbu9J70XvOe887yzvGu8E7/Tu5+647pDuWu447hzuHO4l7kHuWu6N7r/uE+9V743voO+278Dv3+8L8Gbwt/BH8fTxB/NT9Af22vff+ef7Dv4uAEYCPwQSBqYHDgk7ClsLRgwoDc4NcQ4ND60PKhCMENcQ8BDdELcQeRAuELoPPA+sDikOpQ06DdwMkQxGDP4LxguBCyYLvgpBCroJIQmUCA0IgAcGB4IGGAbDBZQFXAVABQQFwgRuBB8E0QNjA/8CiwIhArYBawEdAecAuACpAK8AwgDxABkBTwGqARECoQJHAxAEzwTABbsG3gfyCBwKPAtMDE0NOA4QD70PRxCrEAYRPhFaEWERVBFEEQwR3RCoEGYQFRCtDzYPtg4fDoYN4ww9DIQLtQoMClkJrQgKCHoH2gZHBsAFNgWsBCkEogMPA3UC7wFVAcUADwBq/7H+/P0m/U78Y/t4+mj5V/g99zn2LPUr9EPzW/KP8cHwJ/Cz70zv9O6v7nfuSO477lHuYe5w7pDuxe7r7ibvWO9+76Dvqu/M79nv3O/l78nvxu+877zvs+/J78/vw++278nvzO/S7/LvIfBf8LfwGPGv8WjyYvN/9P71b/c/+RL7Nv1R/3QBsgPQBd4HwQl6C/wMTg5oDzoQ8BCNEQASNhJrEo0SexJiEjkSBxLFEXARAxGVECcQug9DD9gOkA4fDtENbQ0hDb0MWQz1C3EL3go1CpIJ1ggjCGEHnwbyBU8FsAQsBKgDTQPgApECQAL7AdIBoAFiASMBEAHqAMsAuAC4ALgAwgDVAO4ABwFbAXcBwwEXAm8CygJKA/ADpgRPBSsG/QbrB+wI0AmyCpQLTwzHDEENqw36DfoNAA72Dc4Nnw1dDQ8NsQxDDLkLIwucCvkJOgmHCMIH/QZHBrAF8QQQBFoDfAKXAZwA0v/8/hv+b/2s/C/88/vL+4z7YPtE+xj78vqn+hH6KfmA+Mf3+PZo9vf1ZPXz9L70rvTU9PD0CfXg9Nr05/Tn9O307fTg9Ab1cfXr9Xj2DveV9yL4qfg8+Zf50vka+jD6Gvot+lP6gvq6+hX7cPvk+2f87vxf/fz9j/7E/g//ev+8/9X/+v8rACsAZACZALsAzgAQASYBLwFYAZcBpgG8AckBvAHMAcYB0gHlAf4BAQL7AWICggKIArcC4wIoAwUDKwMVAwwD9gK9Ap4CcgKeAmwCjgKVAr0C6QLgAk0DOAOGA5IDYwNwA3ADhgNXA2ADTQN2A1EDlgO7A8ED8AP0A0UERQSQBIcEqQS5BLYE3wToBB0F+wQjBRQFSQV1BVIFiAVcBYsFUgVWBWwFIAUOBdIEBwW8BKwEhAR6BIcEQgRIBAYECQTRA4MDQQMxA+kCmAKFAjoCJwLVAckBpgGjAYEBYgFbAS8BSAEsAQQB9ADqAAABqQC4AO4AuACmAHAAwgDeAMIAnACyAO4AvwDYALgAGQH0ANEAGQEgARMB/QBoAVUB7gAsAV4BRQHRAJ8AAAGvAGoAHwBXADsAnP/n/6//mf9R/zv/Z/8G/7v+rv7B/on+GP5W/jr+Hv4R/rr9Lv7y/cD9l/3//fL9Zf29/bP97/2h/dP9Bf4L/nn+Mf55/pL+yv7N/t3+6v4P/3D/Fv9F/43/2P+f/8v/GQAuAEgAPgBkAHAA5wCGAIwAywAgAQ0B+gAvAQcBsAFiAXcBYgHGAckBdAHoAbYB6wHiAdIB7wHoAS0C7wG8AQsCDgLfAdkB0gH1AesBsAG5AdUBxgGRAYoBewGdAWsBWAE5AUwBZQFSAWsBOQFuAY0BlwGNAYEBsAGjAbYBrQGwAbMBwwHfAbMB4gHvAegBKgIRAggCMwJWAjcCUAJfAl8CbwJ1AlkCbwKRApUCeAJQAqQCwALTAmkCqwL/As0CBQO3AhUDGwPmAgUD/wIbA8cCYwMYA7cCCQMlA1QD3QLQAtYCAgPTAogCggIaAjoCFwLyAZcBwwGgAVgBcQF3AUgBBAH9ADkB5ACWALIAcwCDADgARAAJAB8AEgAZALX/xf8MAOv/S/9k/6b/Wv8S/+f+rv6P/iL/+P0b/uz9kv6w/X793/1+/a39Cv1g/qz8/vzy/d/9aP1k/CT+af4e/s/8iP3h/0D+T/3//R8AbP4I/pb/5/4i/xkAcP8AAMT+3wGwATf+BAFVARAEEf6mAHwChQLoAc3+DgIuA8QCvv60AhQCLQLJAcgAQwIEASUDgQFOAMMBOwOKAd4AxgHsArABjQGIAlsBvQKaAVAClwGmAVACqgHvARMBGgKBAdIBUgFlAYQBTAHVAbIAawFiATkBIAHhAKMBBAEQARYBhwEZAVUBEwEgAd8BbgFMARABXwKdAZ0B8gHcAfsBkQIeAs8BMALEAqcC/gHMAaQCNAMtAtIBIQIJA5UC+AHGAV8C3QKwAd8B+wFVAewCSAHOALwBEQIAAR0BWAHkAGIBxQA/AWQA7gAHAbgANQDhANUAgwCiAJ8A5wCsAOEAuwD9AP0A7gD3AA0BNgEHAe4AbgG4AF4BFgEZAeoAOQFlAX0ASAEvASABgAAmAUwBjADeAMsALwGWAK8A8QDuAO4AKwB7Ac4AdwCsAO4ALAESAGcALAGvAPH/ZwBFASgA4f8HAVEAegA+AIkAkAArAK8AcAB3AIYARADOAJwAogCAAG0AaAGyAJAAvwCNAXoAGQETAaYAswF6ADkByACqAb8A2wBuAfQAPwHbAIEBrwBiAR0B/QBIATkBBAH0AKoB2AAWAS8BQgENAQcBQgHOAGUB4QBMAYkAJgF0AXcAPwGGAHsBpgD6AE8BRACRARMB1QD0ACwBPAGiAGsBBwHhAC8B/QAWAf0AHQHkABAB/QD6ABMB+gD0AOcA2wB3AbsAyAA/AdEAHQH3ACABnwAgATkBzgD9AN4AIAHIAAQB1QDCABABqQDYAMUAsgDVAJMA1QCZAJkAzgCiALIAWgDhAMgAgwCvAH0A/QBqAJ8A2wA7AMsAqQC/AFcAnAAAAWcAwgCyAMIAqQDhAMgAkwD0AMgA0QDIAMgA/QDbAPQA0QDnAAABGQHbAN4ARQH3AOoA2wA5AcgA+gD6ANEADQHbAAoB/QDRAOoANgHxAOQA+gAAAQcB6gDCAPoAFgH6ANEA/QAWAfoA/QD9APoABAEQAfEAAAHhAOQAAAHYAMsA9ADbAMUA5wC/ANUAyADkAMsAtQDuALUAwgC4ANEAsgCyANEAwgDLALsA1QDCAM4A2wDRANgA2wDFAL8A5ADIALsAywDbALsAxQC/ALsAuACmAN4AqQC/ALgAuADCAKwAuACcAMUArAC4AKIAywDOAKYA3gDIAAAB1QDxAN4AzgD9AM4A7gCyAPQAxQDhAOQAyADxAMgAEwHeAOcA6gDqAAAB0QD3ANgA/QDnAOQA9wDIAOcA1QD0AN4A3gDCAMgA8QDOANUAtQDqAOcA0QDCANEA3gCpANsAuwCmAJwAuACpAIAAqQCMALUAgwCAAKYAnwCsAIYAsgCpALgAlgCpALsAlgCsAKIAywCGAJYAiQC1AKkAiQCsAJkA4QCfALUApgC1AOEA2ADYAMIA5ADnAOoA2wDYAO4A9ADkAN4AAAH6ANsA4QD3ABkB/QDhAOcABwENAfQA9AAQARYB/QD6AN4A4QD6AM4AtQC4ALUA7gDeAJYA0QAWAfoA5AAEAeQAAAH9AMUAAAHeABMB/QANARYBHQEWAQQBIwEKAQcBEAEHARkB9wDkABMBLwH6AMUAIwEEAeQAyAD6ANsAHQEQAdsAMwEpARAB9AAQARkB4QD0AAQB/QDYAAABFgGcAAQB5ADOALUAagCsAM4ATgBnANEAnAB6AL8AxQBdALgAuAB9AIAAtQCGAJ8AywC4ANEAmQC1AN4AyACMAIAAwgCTAMgAwgBzAIAAyAAZAXoAdwC1ANgAmQBqAL8ApgCWAK8AkwC7ALsAuwAyAFoA+gBEAJMALgCZAPoAHACGAIYAegCpAM4ASwCQADkBlgCWAF4BywDqAD8BLwHVABkBHQGpACwBOQGsAEEA+wHxAJ//0QBcAg8ARADPAbUAZQEfALsA0AKm/5D/PASZAHL9rwNTBkb9C/7ZBX4IuP58++QHBQbG/T3+jQRbBOr++/zOAzMFyv7S/E0C0gS//wX+6AFeAfz+1QBVAdL/TgCdAVUBRADb/0EDvwA9/pQBQQOAAEj/wwGxAs4A+v/JAaECWwGQ/14BSgOmAIkAmwJAAooBwAFcAvUBWwHnAI0B6wEKAQcBdwGKAT8BWwHAAU8BywDnAEwBOwA7AKIA6/8DALUAlgBaAEgAJQDkAEsADACJANv/UQDRAHoAxQAAAEEAXgHhAGoAqQBwALgA6gCTADYBqQCcAJcBHQEAAT8B0QAKAc4A5wBPAR0BZABFAaMBiQB3AV4BywAWAf0AWwEEAYAAUgEWAYAASAFlAbgA8QANAf0AJgG1ALIAFgHqAK8ACgH0ALIABAHkAPEA2wCJABMB4QDFAAoBqQC1ACAB5wDhACwB4QAsAV4B+gAQAUIBLwE5AR0BIwFSAVgBQgFIAaABgQGzAcMBewHVAdkBoAGKAdUB3AGHAcYB9QG5AbYBzAGqAZEBmgF7AYEBLwE/AXsBRQFVAVgBaAFbAZcBIAEWAW4BBwFbAWUB5wBCAXsBWwFlAUgBPAFFAVgBPwFVARMB9wBMAWgBawFPAVgBewGXAWUBMwEzAUgBMwEjAVsBBwEKAVUBAAEgAT8BGQFCAfEACgFYAQAB9AAQASYBJgEvAdsA8QApAdEA7gDnAOcAwgDOANgA5wAWAYkAvwANAdgA5wDFAL8A9wDuAL8A0QD3ALUAzgDOALIAvwCmALIAwgCyAKYA1QC4ALgA4QCyAKYAxQDYAMIAkwB9AMsA6gCQAFcAuwD0ALIAZAC4AAoBiQB9AKYA5AC/AKIAsgDYAOoAwgDOAM4A2AD9APEAsgDuAM4ABAH0AKYAwgDxACwBvwCvAPoABwG4AKYAwgAZAQABSwC1ABMB7gBqAIwA4QDkAA0BrwC1AMgABwEdAfQAHQHYAC8BRQH0AOoAEAE5AfcAIwEzASwBIAEHAUwBUgEHAQoBPAFPATkBBAE8AQ0B8QA/AW4BUgEvAS8BUgGHAVUBhwGKAUgBqgGqAZEBsAEgAdkBeAJtAGsB+gN+AQwAZQHeA7gDSP84AIEFTQPv/dwBHQV3AR8AIQJNAxECYgEOAvsBmgEkAugBPwH1Aa0BigHGAdUBLAGjAdMCBAG4ABEC3QJYAQAAoAHWAtwBIv+WAOoDOQHq/ocBbAKmADIA3gBFAYwAKACAADUA8f+WAAkAA/8AAAMANf8S/6//2//a/h//gP/2/rv+Gf8Z/9f+Cf8D//D+Ev9O/9f+xP6T/6//Xv9q/6P/1f8y/1f/wv/S//H//f9RACgAgwDeALsAfQD9AAQBrACfAKYACgHLAHAADQGKAWgBzwEzAsQCjgJmAogCygLEAuwCTQPNAlYC5gJHA8cC2gJNA0QDDwO3AngCqwJ8AhECIQLoAfIBCAL4AUAC5QG5AXIC5QFrAeIBsAFSAeoAIAFSAR0BJgFbAWgBswGwAT8B+wHMAYoB0gEkAvUBawHJAesBewHVARQCvAHfAbYBgQFlATYBPAEEAeQAYgFVARMBWwFeAaMBzAG8AWsBjQGNAVIBgQFxAUwBnQFoATMBWwFxARkB5wAdAQABTwHhALgA+gCvAFoAqQD6ALsAogCfAAcBuwCpALIAkwCmAM4AfQCZAEQA9/81AOH/VABhAAYAOwAoAG0AsgBXAE4AWgBqAKkAvwC1AAABRQFuAZEBzAHJAZcBgQEgAVsBuQF0AcYBxgFuASkBhwEkAsABWwGmAcwB3AEtAs8BhwGaAfUBsQKYAl8CGgInAuwCRAO6ApUC/wJ5AwkEmgRxBLYEoQXDBaIGIgdBBsQGTgefB5MHjQfyCOUIYggOCbYI0gevB4QImgiHCD8IQghlCNIHwgfIBw8H3gcmCI0HlgfzBrQG4wYrBpsFDgWlA8UD9AMWBEgE5QRWBUkFzwRkBOEDlgQOBqAE3gOdBL8EOgbyCHEIaQnVC3MR4BN8DeEH5QGU/YT8j/vc/QAAff/5/mv9Xfsy+dT3Avcc9Xn0ZfNn8TTw1e7V7m/wXvXy+Qn8//pR+P30/PAa7+btP++O84v3kPmN+Rj3UfU28wzxXfFZ8N7uAO+s7qLtGO2W61Tqv+je59jni+bI5OziD+B130fgDuLE49vkAubK5hLn9+eU6BTpE+uS7fbwoPbX++v/RgICAx4DgwMXBWUIBAyuEO0UuRgiG4QcBx0zHQEdUx12HjUfSB/BHt0dJB1VHEgcSBznG/MaARlbFfMQkQzcCHMGJwZwBjIHMgfpBaID9P/b/LT6+vg++A/4zvig+bz5zPnZ+eL5wPqJ+xH9Ov58/sH+gv6+/tL/PwGfAyEGcQgcCpwKpQoPCnIJqAn6Cn4M8A3xDjkPVQ/+DoMOvw6ZDooOGg+6DzQQQBBKEO8P/w92EGoRTxLJEqsTFRQiFPkTdhT6FD8V/hUbF58X5BcPGCgYlRdTF2YXIRfvFvUWexbYFWEV9xQ7FDoTzxJ0EucRQRFjEJ0Pgw4fDsQN9gynDKEMBAyaC4ELdAsTCxYLCgvtCs4KEAsyC0ILSAuaC7kLcQtFC1gL6gptCgIK3Ql/CdMILAhFB0cGOQXaA6sCYgEAAKL+Vf2P+wT6evjW9lT1qvOv8UbwnO7G7B/roekK6JXmEOW+48DiJ+K/4UvhweCk37nest2N3b/dkN0E3qPep95o3uLeq9/a36LgB+Ly4tHjDeXD5THmCeei54bnnOfR50Hnoeb75RHmDeXP5PTkBuSG4wTi4N/K3OvaUtdY1JfRrtJk01vTUtdW3Krig+ch6iTtZu2L7C/uD/Eg9s/8vQUfDuUSaRdPHF0hzyPrJm4qdSv6KQ8payqLKwAtDDBtM0g3hDcUNfEwZyw/Ju8guh3PHIQc1Rz3GxMZZxWiEUUOnAqTBwQF8gGM/u37WPmV94L3Fvm1+1/9rf3I/Aj74fgC97P2wvi++/r/TgT0BxUKgQvKDL8O4xC8EmcUGhYhF/YXaBkvHMIfQiNkJggo0CcZJt8jwSG6IHggNCGiIcEh1iDLHuIcXRtsGooZVxhGFgETsw/pDAMLAgorCvcKYQvbCvUIkgY4BKsCUwLjAgAEdwR0BKIDxAI9AnICRwNuBBcFGgU/BPkCuQEHAQ0BswFAAlkCqgE4AF3+oPxd+/b62fqe+gH63vh/9zb2H/WS9FP0f/Qe9JHzo/K48UrxVPHO8ejypPM99Jj0ovR59Hz05PSj9Yv2OvcY+NH4Vfm5+Q76lPoP+3n7iftq+z777/pM+tn5oPmB+UL5ovgV+Fb3E/bg9Nzz7vIs8n3xt/AO8GXvou4M7qLtb+007TrtIe0R7SvtfO3g7WHu3u6276vwj/Fr8ovzifR39Wv2fPdz+Gv5Wfpw+6b8lP1W/kH/9P+QAPEAQgFuAZcBfgGdAZcBoAFuAV4BLwH6AJ8AiQB9AEEAAwDr/+H/5P/O/y4AYQCGAMUAEAFVAZcBCAKeAhgDrwMJBJYECgWhBUoG9gaGB/0HhwgFCWwJ9glRCrgK1ArxCvEKKQv6CgALDQvUCpkKVwoMCrcJTQnsCJoIPwjeB2QH9gaJBjcG4wWhBV8FFwXYBJMEawQyBDUEHwQpBCkEOAQ/BEgEbgSEBKYE3wQOBTYFewW0BewFEgY0BmYGjAa7Bt0G8AYGBwwHAAcGBwAH4wbKBp8GbAZBBhUG9QXGBZEFXwUXBckEkARSBBME0QOJA1cDKwMSA+8C0wLQAscCsQK6ArcCtwK6AsoCtwK3AtYC5gICA/8CCQMiAyIDJQMSAyIDAgPdAqsCkQJ4AjcCBALcAaYBXgEKAb8AcAA+AAMAy/+G/0X/Cf/q/qj+dv5g/kf+G/4F/gL+CP4F/if+Mf5N/mD+dv6i/sr+6v4J/yj/Xv+D/5//wv/0/wkAHAA1AEQAQQA7AEEALgAiAAYA5P/F/6P/dP9L/w//3f6u/oX+Wv4n/vz9xv2e/X79Uv1A/TP9MP0g/R39IP05/U/9aP2L/bf96f0V/jf+Y/6S/sf+9v4r/2T/k/+4/+v/DAA7AF0AgwCcALgAvwDIALgAsgCsALIAqQCcAIMAZwBEAC4AFQAAAPT/6//Y/8X/vP/C/8L/2P/b//r/CQAuAEgAbQCfANUAAAE8AXsBtgHvATMCbAKrAukCLgNnA6IDzgMDBB8EPAROBGsEfQR9BHcEdAReBEUEJgQQBPADzgOiA4ADTQMrA/MCxwKhAoICUwItAgQC4gHGAaYBlAGHAXcBaAFPAUIBOQEvASMBHQEZARkBGQEgASABIAEdARYBEAEKAQAB+gD0AO4A5ADhANEAyAC7AKYAkAB9AGcATgA+ADIAIgAPAAAA/f/3/+7/6//x//f/AAAJABkAMgBLAGcAgwCmAMgA7gAWAUIBZQGUAbkB4gEIAjACWQKCAp4CwALmAgUDHgM7A1QDbQOGA58DrwO7A8EDyAPIA8sDxQPFA7gDsgOlA5kDjAOGA4ADgwOGA4YDgwOGA4YDlgOlA8gD5wMJBCwEVQR9BKwE2wQRBUAFbAWXBb0F3AX8BRgGNwZNBmMGcAZzBmYGUAY6BiQGCAbyBdkFugWLBU8FEQXSBJAEUgQTBMsDgAMuA9oCggItAtwBigE2AeQAiQAuANv/g/81/+f+ov5a/hX+0/2R/U/9Ef3Y/KP8bvw4/AD8xPuV+137LvsC+936tPqR+mn6Rvod+gT66/nc+c/5yfm/+cP5w/nV+eX5Afoh+kb6afqR+rT64PoI+zf7XfuJ+6772vsD/DL8XvyH/Kb8ufzF/Mj8v/y8/Kn8rPyd/KD8mfyd/JD8jfx3/Gf8SPwv/BD88/vU+777qPuf+5n7nPuf+6v7q/u7+8H71Pvn+wz8Mvxu/KP88fxA/aH9Av52/uD+V//C/zsAogAZAYcBDgKFAgIDcwPhA0sEuQQdBYUF3AUuBmkGogbHBucG9gYGBwwHDwcMBxYHFgcZBwkH9gbRBrQGogaYBpUGkgaMBn8GeQZzBnMGfAaJBpUGnwaiBqsGuAbEBtcG3QbqBvYGDAclBz4HVwdtB3cHfQeGB4YHhgeAB20HVwc4BxwH/QbdBrsGjwZjBisG+QWwBXUFKgXoBJ0EYQQsBAYE7QPhA9QDyAO1A6gDkgODA3YDdgOAA5IDrwPaAwMENQRbBIQElgSpBKkEsASsBLYEtgTFBM8E4gTlBOgE2wTCBIoETgQGBMEDeQM4A+8CmwI9AuIBfgEmAcUAbQAMALX/Uf/2/qL+Zv46/if+G/4b/hX+GP4R/hH+C/4e/jf+Zv6Y/tf+DP87/1f/ev+J/5n/rP+//8j/zv/O/8L/pv99/0j/A/+0/mb+Ef7D/W/9FP2s/EX85PuJ+zT7/PrH+qH6hfp7+m/6bPps+m/6dfqI+q765vor+3z7xPsG/D/8d/yp/Nj8FP1M/ZH90/0e/kr+bP5s/mz+UP5T/lb+ef6Y/tT+/P4Z/zL/Uf93/5z/wv/x/wMAIgAuAD4ASABqAJkA5wBIAckBRgK9AhgDPgMoA+8CmwJJAgEC3wHcAQQCMwJ8AosCcgL7AUwBQQAP/739jfxz+7H6M/ok+mz6KPsc/B39uv3T/Tz9Mvz2+gH6o/kn+m37QP0c/8gA+AGYAp4CQwKXAe4AagBOAIAAEwHfAeYC6gPrBKcFJAYhBsAF2wTXA9ACTQJAAs0CtQOpBGwFxgW3BTMFYQR5A54C+wGtAckBJwLKAnMDBgRSBFIEFgSiAxsDrgJfAlwCrgI0A9cDawSzBKwESwS+AxIDaQLiAZQBfgGmAQ4CmAIuA6sDAwQfBP0DuANqAzgDMQNdA8EDPwTYBGUF8gVaBrQG8wYiB0gHYQdtB3cHhgepB9UHOQitCFMJ8wmMCv0KSAtoC24LSwscC+EKsgqfCqUKvgrhCvEK7Qq1ClEKtAkCCTYIhgfdBnMGJAYCBu8F7AXNBaEFTwXoBF4E1wNUA/kC0ALsAi4DeQO7A+cD5wPRA5wDZwMlAwID6QIFAzgDlgMABHoE2AQjBU8FYgVJBSoF/gTxBOsE+wQRBSAFIwUOBcUEbgTnA2cD2gJQAskBPAHIAFEA4f9w/wP/m/4x/sD9PP2z/Bb8hvv8+oj6IfrS+YT5TPkD+dj4v/iv+Lj4mfh2+Dj4A/jm99T38/f89w/4EvgS+Bz4Ffg1+EH4S/gu+BL4//cG+Dj4evis+Mj4tfic+IP4ffiM+LL40fjY+LX4mfht+GH4V/hq+Hr4gPiD+Hb4bfhL+CX4DPjU97H3XPc39/v20/ag9mj2IPbC9Wr1D/W49Gz0KPQI9Bv0kvQy9TP2R/dt+H75iPqG+4f8iP2M/on/jAC5ARUDigQbBoYH3wjdCcIKYQvrC1MMngzDDNMM2Qz8DDcNmA0QDn0Otg7IDoMOBg5mDeAMaQwLDMwLzwvfCw4MMAw9DCEM3wuUCy8L1AqMClQKNQo7CmAKpQoQC5QL+wtlDJ4MzQzTDNYMBQ1aDQAO2A6wD2YQ6hA7EWERThEcEcoQeRA9EDQQaRC0EAMRIhEJEZ4Q+w8qD1QOfw29DBEMhAsTC9EKZwrzCSQJIwjjBroF2ARLBBMEDQTUAz4DTQIgAQkARf/z/gP/H/8o/8H+8v28/Hb7Wfqa+Wv5gfnG+d/5gfm/+Hb3RvYf9T30nvNP8x3z2PKj8nHya/Ju8rPyEfND83jzZfMt89jya/If8hbyl/Kn8w/1wPZt+I35BPqQ+WT4hPaV9N/yj/Hw8NPwUfH38YfytvL68Yvw2u0Y6t7kXt4y11vQnsu3ymPPWNqV6jn94Q01GDwZLxEoA8H02Oun7Pn3OQtNIZ00g0CCQwo+jDJGJFkWgQtSBW4EqghAEFUZESH8JHsjNhwqEMABe/MN6O3gHt+L4gjqwPMK/YADMAXGAXX6zvG46obngukI8Lz5ZwReDkMWJRvPHB8buhbEEPoKKAeMBrQJiA/AFiQdGyGFIS4e5BdlD0QGxv1j9yv0u/Ss+Mf+GgWYCQ0L7wg/BDH+TvjW82rxcPHf83D4qP6XBSoMPhEeFIMUJBOPEBYOKgxLC78LGA1oD+cRYBT0FTkW5BTeEZINoAjOA9X/+/yV+2P7LPx1/bv+hv9h/y7+8/tS+cn2A/Ur9KL0AfZR+Pb63P2AAIgCvgO+A+kCZQEAADv/dP+TAEkCKQTNBeAGXgcSBzQGnQSuAoAAnv6E/Tn96f0J/ygA1QDbADUAMv/s/bb8j/uh+if6JPrT+hP8nv0l/zsA5AAQAQ0BDQEzAYEB8gGOAjgDJgQzBUoGLAecB4AHBgdNBrQFQwUEBb8EZATwA3YDHgPQApgCQALMATkBrABXADgAXQCTANEA4QD3AB0BjQEtAuwCogMcBFgEZAR0BJ0E7gRWBacF5gX5BQsGKwZdBoUGfAYrBpQF4gQ1BMEDlgOAA5wDhgOZA4kDogOZA4YDRwPmAqECiwLNAlEDDQS5BCAFTwUzBf4EwgSQBHEEWAROBFsEdASzBAEFLQU9BT0FGgXxBNIExQSaBJAEbgRxBF4EdAR6BHcEXgQmBNEDfAMxAwwDCQM+A4ADqAO7A68DcwMxA+YCtAKVAp4C4wJKA8EDKQRbBEsE4QNUA7QCbAI9AmYCxAI+A7gDAAQZBOoDgAPjAkYCxgF7AW4BbgGgAcMB9QEeAk0CYgJQAvUBlwH0AFoA8f+j/43/pv/L/+f/1f+J//z+N/5i/Z38+vu1+6j7y/vq+8T7bfu9+hH6kPk2+Vv5qvkh+mz6Zfoz+sn5a/n6+LX4bfhn+Jb4SPlD+jf73fvR+xj75fmW+Iv3NPc997r3cPgm+Qv6w/qS+wP88/tm+3j6ivnn+NH4Ofk6+mr7ufz//er+wv/x/6b/lf7l/On6Jvnp96H3EvgT+TP6GPs3+6f6kPhn9ZjwEOs55U7got0z3sDi5Oop9v8CkQ+gGQYffx4+GD8O5wPo/Cn8XwJLDqkcdClfMVAycCzMIPcRZgLg9FHrdufy6BbvYPdn//EE8wZWBRABFfsf9bzvM+yE62TuBvUM/8sKHRa1Hvoi3iLnHvQYgRLpDG8JnQg7CksOSRPkF0YaMBmSFL0McwNl+grzKO427Mnsxu9m9NX5vv4EApgCYQAc/Hz3WvQI9Gb3Hv75BrEQlxlrIF8k9iRhImwdRBeiEd0NoQwGDqIQchPXFE0UYRGtDLEG/f82+Uzz+u7m7GDtf/AP9RT6Tf4HAS0CEQJIAUgAKAAgAeQDeAhODjQU8RiPG7gbhxmjFVQREg2PCQYHrQVMBcYFSgZQBhcFfwKl/m/6l/Yu9BHzCPR19jD6mP7zAlMGGgjrB5gGmgQFAw8DlgSfB2sL0g6DEQgTaRO5Eg8R+w4qDEMJjwZYBNoCVgKuAloDOARrBOEDCwKD/0X8YflN95T24vaA+Ij6pvxj/rX/ZACTAGQA7v8Z/2/+Pf6C/pn/DQGVArsDQgTFA5UC1QAG/yD9c/tf+qb5a/n4+cP6D/sb+7P5+feT9a3zpvJx8i3zIfT59IP19PUw9m721vbl9n72z/XB9CT0i/Mk9D71FPcQ+eP62vvz+yj7qvmZ+I/31Pe7+Iv6hPwr/kX/pv9B/5X+0/3+/Cn8fPvg+j36MPoH+gT6Qvn/91f1aPIm7zDsLelg5rXjMuG332fgkuMM6tDzOACADs8cKCmpMGUxxirRHu4RoQn1CJUQFB35KOkuOCwJIlkTuQS4+GzwmerU5pPkNeQe5rjqC/C89Yv6b/5eAfoDeAWtBRwEiwLNAq4Gbg/HGhYmaC3vLosqkyKtGfoRQAxbCEAFiwIcACT+H/yg+cb28fKE78bsmevz6qXq4+mq6QPrl++F93sBTwtrErkVlhWPFE0U9BVfGUAdMyCSIaUhmiBjHhIbexb8EAcLHgZmAqb/FP1o+fn0XPAh7c3sBO8E8wL3jfng+k371fzb/7MEegoCEKgUAxhWGn0btRvEGs4Y7hUqE64QzA69DO0J9QUEAcj7QPdJ857wV+4R7Frq0ujM6NTqAfBX+D4DlA8GG9giBSWMIYoZ/BAAC1QKzA4aFs8chx/MHEUVAAv6AAf5JPTX8YzxA/Jh8pfyufJ485D1pvmm/7EGNA2cEdwSSxG2DrEMPg12ECwVyxjiGagXlxL4Cx4GrQGr/pD8tPp9+Ev1LPIs71Xs5OrE6snskvCW9d36uP7xALMBvAHEArAFHwoND+sSvhT/E0QROw5IC0YJrwcYBmoDk//T+sj1+fB/7SzrqOpq6y7tje/08XD09PUL9773ovij+Yb7pP3C/3EBXwLvAhIDiQNCBNIE1QQDBAEC7v+h/Sn8wPqt+VH4tva19WT1aPb597P5pPq6+gH6Qvm7+PH4Uvnl+Qv6mPo7+8j8mP47AC8B6gBzAHD/A/+b/on+w/1h/Iv6EPlR+A35UPop/E/97/03/q39p/0B/bn8xPsF+/j5nflV+Qv6PfpG+kX5iPf59DLyye/87WDt6u2u8Cj1bvw5BUwPQhg1H6wikyJbHz0aWhRqDg4JgQRFATj/0f4v/0sA/QBIAYkAmf8C/qb85vpe+RX4wffb+Lj7HwBcBYYK7g4NEuYTuBSlFAkUhxJ/ENQNLwuzCAAH0AVABe4EswSEBB8EqAOrAikBGf+H/BH6O/iC9y74ivnE+639tf+aAdcDYwb4CHQLJQ3hDeENYA3yDPYMQQ24DdENgw1pDJYKIwhoBVMCev/x/Cj7Gvq/+dn5Kvpy+sf6hvvM/Pn+oAG/BKYHDwrVCysNNQ4XD9wPRBA0EFIP5w0hDFQKvQhFB9wFWARvAowAY/6z/Cj7Q/q2+VX5KfnY+PT4Hfmm+Z76Bvzv/e7/HgJVBFAGXwjwCTILBAxvDMMM/AxaDagNsg06DSQMBgpkBzgEBwHc/SH77vhy97P27/bg95r5wfsk/ncAygIOBTUHNwnhChoMwwzcDIsMGgygC0ULqQqrCQQIwwUeAzsAjv0h+z/5zffP9kz2I/ZM9t/2offh+CT65/un/Y3/UgHWAi8EFwXZBagGfQedCKEJagrCCi4KGwlIB1wFagNYATv/0vxZ+hX4OfYo9eT05/SA9dL1XPbc9ub3Uvn5+sX8NP5h/w8AyAB+AXgCqwO2BFwFkQUHBT8EOANmAs8BPwHnAAkA2v4m/V37ufnb+KX4YflQ+kr7vvuP+xL7XPoE+if60/rE+/f87/0G/9X/3gCXAYgC8wJjA2cDgAODA2ADKwOYAgECOQH0AIMAfQD9/87/Jf8G/zL/5P+yACwB8QCf/379Zfoh9xfzW+8W697ni+UY5pvpOPFL/NcJohcKI4YpdylVI9IY5A3VBOoABAGHBA0InglVCGcE2P+4+8L4Hves9U306/KZ8f3xdfOF94f8qwKUCOcNuBG0E5ET4RGLD+QNuw0NDy8RTBKAEecNwAi3AiH+cPvZ+rj72/yE/QT9nPu5+fb33Pa69lD3u/hM+uT7+/w6/sL/SQL8BYYKFA93Ei4UmBNtEW4OyQv8CScJHgnfCEIImAbOA3oAv/yN+Qj3ivVq9an1h/ZZ9y74sPnO+xn//wIDB48KtwyrDZUN/AybDJgMCA1QDSUNLQxLCsIHAQV4AnAA4/6n/T/8m/qi+JT27fQe9Gb0qfXN92/6Uv0oAOACaAW8B7EJLwsdDFYMAQwvC/kJigjaBv4E/wLxAB//Uv3w+5j6mvmZ+NT3SvcO90D33ffO+CT6tfvA/QkAcgIdBWQHygniC+0Niw9jECEQnQ7lC3EIDgU9AoAAtf+y/7//r/8v/2z+T/1n/K77g/va+8j87P1h/+oAhQI1BPwF5AeSCQoLxgv4C14LQQrlCIoHZgZPBU4ERAMeAsUAk/9v/nj90vxh/GT8nfz3/GL9Wf1l/S39l/3H/pMAygKWBPIFPQbNBQEFIwSlAx4DbwJxAS4A9v7f/TP92/zF/Nv85fy8/E78y/v8+j36zPnc+db6evyx/rsANwIFA+kCSQKqAQcBlgAcALX/1P6w/cX8xPs3+yX7dvvO+9f7zvtQ+9P6lPqY+h77APwd/dP9rv44//f/wgDSAfMCRwOJA+wCFwJVAcsA0QDnANEAUQBX/5v+xv11/Yj9pP2X/VX9B/2N/Cn8Bvwf/GT8Lf1A/ob/tQBYAVgB9wBkAO7/ZP9F/yv//P41/5n/uwBJAjUEFQZIBwoIIAijBzgHcwa9BQQFkwQTBHYD/wKRAgQCuQHGAZQBtgGNAR0BTgBU/3/+7P0h/jX/nwBWAucD4gR+BcYFaQbXBnAHwgeAB7EGiAVIBCgDhQJ/AgIDzgPlBJQFtAU2BSYEeQMuA5IDXgQBBdkFMQZ5BrsGMgfuB7kIfAmkCVYJoAjIBwwHvgbgBjsHtQfIB04HRwb7BMUDtwK6AjQDKQRfBQUGiQZsBl0GNAYnBjcGvQW8BCIDPwFX/wL+T/0g/XX9rf38/a39Gv0i/Az7Wfqz+aD59fme+jH7j/sT/HT8Ef09/nD/kwBIARMBQQC4/kP9HPxq+2r77PoL+on48vaj9aL0lfRp9P/zwvIP8e7uZexE6lfn8eTW4t/iEOUV6qnys/3DC3UaWihzMqg2CDURLh4lphwaFvwQ0QpZAjr3Juzw48zhGuUK7EDzKPhM+lP6hvtj/nwDGwmJDUkPZw7iCwIJeQZlBQcF8gWmB10KJQ0mDyQQTw/qDVwMUwy6DG0NRgzZCHUCwPqt8wDvWu0A7sPv4/AS8ZvwBfH+8nb3wP2zBNEK6A6oEB8RiBBvEGAQsRCrEIgPfw0JCoUGKAMdATgA6gD4AdACaQKTAJH9J/rE92L2KfZu9p32aPYw9q32n/jw+8UAlAU7Co8NCxAvEYAROBFEEBcP/AwQCyAIcgVNAt7/8v28/Hr8XvwQ/Hb7jvrP+V75oPl7+hv71Pu1+8772vsX/dr+jQEfBHwG6wfWCL4JdgqQC2wMHg3QDMYL7QnYB1kFBQOQAGb+Vfwe+xr6l/kT+QD5+vhM+Rf6KPvY/Fb+IgAzAaQChgPMBNAF3Qa/B0kIsAiqCNYI1gjGCFgIagcLBiME+AHC/0/9vvsk+pr5v/i4+Kn46via+V/6Cfye/RUA0gGoA7MErQUFBlYGzgZbBwcILAgECFEHBQbbBHkDMAL3AIb/b/65/Kv7J/qN+bL41Pj3+JD5gvpz+/f89f2s/58A9QGuAowD7QNkBMwESQVvBVYF1QQWBP8C3AGsAJD/+f55/kT+sP1+/bz8nfxC/NL8T/03/gD/lv8JAEQAPwH4AVEDAwToBLYE9ATVBAcFBAW/BDwETQMUAuQAJQDh/wMAo/9k/1D+6f1c/Z791v3d/nT/LgCJAPQApgE6AoYDUgR4BZ4FNAYCBi4G/AU6BtwFlAXJBMsDpAJlAZwA4f/r/4P/1f9n/2r/A/9F/33/gAAgARECrgIxA3wDmQMvBG4EKgVyBVoGWgYGB90GxAb8BVwFowQGBEQDfALoAS8BnwC1/4P/O/+D/3T/2P8GAL8AMwEXAq4CgAP9A3cE6ARfBfIF3wUhBqQFfgUKBdsEXgRSBMUDJQNDAjwBhgADANj/o/+8/33/V/87/7X/KwAsAbkBggLpAmcDmQMTBKYE+wRDBXIFoQVoBXIFFwUtBYcE9wMSA0MCfgGyADUAwv9k/yj/AP/8/kH/v/+sALwB+QLRA7kE+wRvBXIFoQWUBZEFewUzBQEFrAQGBBgDUwKqAR0BMgDI/x//hf7T/WL9IP0m/Sb97vyZ/M/8Hf23/av+if8GANv/gP95/rD9Cv3I/FX8Cfzk+3z7JfvW+uz6hvvn+zX8jfyZ/IT8h/yg/L/8BP2R/U3+yv4l/1H/S/9N/p79Nfx4+in5i/eR9u71QvUy9cf0RPTG81nzHfMy8p3vSOu25S7g7try2NLameDz6uH7ERPIKfQ6FELRQGA5GC/7JsQhnB6KGCwLovvZ7LXjF+IC5hXt8fIy9XjzTPPw9If5wgCgCG4O1RJhFSwVwBN3EgASHRJvE9oXjRyzIAQjciDbG7kVtw+/C/4I5wZwA4T9MPaC7XbmpePV5Gnpte7p88z2WfdW9yj4lvzDAQUJqQ4EE7QTgRJxEo0StRRaF4QZgBv1GUoXwhVsECALsAWbAgj+0Pqa9kHxpuvM5TLh6N4K4bDl6Ovo8q76LgA+BzoNYxTQGpEghSQMJfsj/h8iGyAWWhFdDYUJ/AWRAhL/jfzi+Vj5yPhr+ej5BPoL+nr4kvcj9jb2J/et+Tb9IAE5BfgIIQ2iEZsWPBw9IT4lJycEJ54kJyHPHLgXcRI9DJsFLv5590HxGO276hLqFuv/7M/vs/Jr9nv6Ov7MAckEAAdVCEIIHQgvB8EGKgUsBFMC5wDr/9r+hf63/aH98fxe/JL7ofoD+ST30fQd84Px9vC08H3xv/Jd9JT2H/hv+k781P76AEcDvQWTBzMIXwgyB4wGtgRdA4QBg//T/d36YfnA9qb1MfRM8/jyyfK381r0yPUO9/D3P/kL+ur7a/1U/6YAigEUAvgBygIIAogCFwKNAXAAOv68/Af6Xfgz9jH0FPM78fzwXPA78Rrz+fRB+LH6bP4pAXcEYQeCCcMLugycDYYN3Ay5C0MJDAdCBEAC0QAG/83++P1v/sH+zv/iAZ8DdgZ9B8wINwmxCfYJtAlGCXEIUQceBjAFlgQvBNQDjwMSA90C2gIlA3wDJgSQBJ0EegT9A4kD/wLgApgCZgKmAQABOADk//3/ZwB+ASECrgIMAzQDYAPOAzgEZwR3BDwEhgMJA3wCVgI6Ah4C6AHJAZEBTAFlAXEBxgE6AmwCvQLpApgCxwJyAlkCDgIqAk0C0AJKA7UDMgQyBDwErwPvAsYBxQDx/3D/bf/O/1EA/gGTBMYI5A26EzkZHR3dHngd3RqfFwMV7xKrEIwN8gioAzr+5fly93L3lvhf+hn8kf0D/3oARgJVBIUGmggoCpQLiQ0BD7EQFREyEU0Qaw85D/0NXQ2jC0EKOAf7BB4D3QJDAqMBUQCl/n/+Tf7m/dH+4f+yANQDhwSFBmwGEwgPBzYFNwb/BfIFBgRIBLgDLARbBGEEjANkBCwEaQKCAo4C4gH0AJYAK//H/tz9Q/1X+6T62fmD+B/4uvdX+OD3/fhI+ev5J/qR+pj6Hvs7+zf7avu6+mX6e/lC+e74Kfm2+bH6lftb/AT9Yv3c/S7+CP5v/V78SvsH+mj5xfil+Iz4nPil+Hr4Jvmw+WL6FfsG/Bb8ivzd+4n7Avvj+iX7lfuA/KH9QP6+/u3+j/6b/o79Nv1V/LX7SfpI+e33DveW9fzz3/KL8OHuaOxt6t/oZOft53Xpq+0T8lH4MgDIByQQMxatGZgafhmbFhUU9xF3EagQeg4EDMYICwamBOoDJgS2BEsEnwObAugBEAHqAKwADQG/AAoB/QB1AqIDBwXOBk8IvgnFCnsMlQ2YDY4MjwrFBzMFDANNAusBngLaAsoCOgLVAXEBawEwAhECxgFqANr+Af1w+2n6z/nc+ez6FvzQ/a//vAGJA/gE3wWlBgwHvwf9B40H1wa9BcUE4QOJA8UDkwRyBT0GxwY+Bz4H+QalBiQG6QWRBegEswRLBCwEHAQ/BM8EbAUYBnwGxAbEBn8GEgbcBV8FHQWsBFUEAASAA4kDmQO+AzIEOAT6A4MDvQJ8AqsCVAP0A1gEYQQZBJIDLgMbA0EDUQM+AxID0wKxArQCcgJWAu8BhAEAAX0AIgC4/0X/1P4R/tP9vf1H/pb/GQHEAvoD3wSLBT0G5waGB9UHzgeQB/AGmAZdBnYGdgZ/BnkGUAYIBroFZQVDBRcFGgUwBXgFCAbUBr8HrQh5CRwKjArYCg0LEAvbCnoK1wl1CckIWAjFB04HogYOBkkFvwQZBHwDzQIOAiABSACm/wD/7f7H/ur++f4P/0X/o//I/87/rP8v/8T+7/1v/bn8r/xn/Fv8O/xO/Cz8VfyN/Ln8XP2e/ST+C/49/iv+R/5K/l3+mP6e/qL+b/43/sD9a/3F/GT8eftH+7T6afo6+tX5sPll+ab5o/lD+tP6n/sM/H38+/zx/CP9IP0m/dX8kPxR/AP85Pu7+6X7n/uV+3n7V/vg+ov6oPnu+HD4GPhh+Mv4oPls+gL7ifvO+0v8rPwj/bD9C/5N/kr+Lv7Q/aT9fv2L/Zf9X/1S/an8Ivyu+xj7+fry+u/6zfpv+ir6UvnI+On38vam9Wn0z/KS8cfw4PC18YvzZfb++Rv+pAIlB2gLlA/VEg0V9BWsFVoUexI6EOoNkAt8CS8H3wTzAqMB2wCfAOoAJgHrAZsCrwN3BLQFlQZbB6wHSQgKCCYI9wemB0EH5wbKBjoG7wU9Bb8EBgT0A7UD/QNuBAcFtAUYBnAGWgYFBoEF/gQDBOwCYgF9/3X9lfvu+fH4R/gi+An4R/h2+P34oPm3+hz8uv2Q/z8B5gJYBLoFxwbFB5cIFwlTCVwJ/giECOQHRQd/BsAFFwVhBL4DPgPmAqcCvQK9Au8CKAOMA/QDYQT0BGgFwwUSBkEGYwaFBpgG9gYyB5kH7gdGCIQIjgh7CD8IIAjrB7kHmQeNB1QH9ga+BkcG1gVGBZAE0QMFA1YCcQG1APH/Ev9p/rf9aP0H/ej8r/y5/Jb8z/ze/Dz9rf0n/tT+cP9XACkBUAJEA2EEPQULBpsG8wY4B+MGqAbyBWUFpgQyBNcDrwOSA3kDVAMbA+8C4wLaAuMC4ALsAjEDjAMWBPgE7AXwBssHTwi2COUI2QiqCFII1QcyB3MGpwURBWEEywM0A7ECBAKmAT8BAAGsAGEAAACv/0v/Fv/B/qL+Wv4O/un9w/2k/Wj9I/3C/H389/u7+037NPsS+wj7Evsb+1f7ifsT/Hr8I/11/fX9R/6V/vD+O/+G/6z/v/9t/zj/tP4b/qT9BP2p/GH8LPwi/CL8Nfw//E78mfzo/Bf9i/3m/T3+ov78/mr/vP8fAG0AnADRAMUAzgCWAHAAVAAuACsASwBRAEQASwD3/8v/ZP8D/8T+Sv4u/sn9mv1S/Rr98fzM/Kb8jfxx/HT8hPyA/Kn8s/y2/OX8Df1D/aH99f0h/mb+ov7B/t3++f4W/wz/9v7a/nP++P1V/ZP8svsh+3X6DvrZ+Yr5VfkA+ZD4WvgV+Hr4L/mb+jX8Xf53AHgCoARaBuEH6AihCcQJjwk6CXgIyAcsB6sGKwYIBkEGQQZwBnMGIQb5BaoFlwV4BZcFugXZBUcG4waNB1IISgkMCnoKzgqJCgkKJAlbCBYH7wXrBPoDcwNHA3kDqwMvBI0EswS2BJ0EUgT6A4wDVAP/AtMC0AK6AnUCOgLcARkBjADV/zX/Y/7m/Wv9Ef05/bP9U/5U/2oAVQE6AhUD3gM4BMwE8QTSBLkEZwRFBBMEGQQ4BF4EdwS2BN8E1QT7BJoEYQTeA2MD4wJfAjcC+wH7AT0C3QKrA6AErQWCBg8HbQdBBywH0QZaBvUF4wUnBnYGOAf3BwgJpAlHCoMKcAoSCrEJzAjVB+AG2QXCBOQD/wIOAooB5wBqAO7/wv+y//H/mQA5ARcCxwKAA8sD+gMfBDIE9APFA5YDDAOhAvgBTwHLAGQAAwDV/6//0v+//+T/lgBIAVAC+QLLA8EDFgSfA2cDJQOnApgCKgLDAX4BPwETATMBMwFxAZcBuQHyAQECAQIeAlACjgKCAlwC3AFiAe4A0QDbANsADQFrAXQBQgGKAVUBpgHGAfsBCALVAVUB1QA+ABUA5P/6/5//L/+l/tD9a/3I/Jb8gPyv/Kn8yPyK/G78gPxb/I386/wE/R39pvxY/NT7uPuS+wP89Pyk/cr+V//h/4MAEwGXARcCUwKOAvUBjQHVAGEAzv+m/1H/1/5K/kb9ivzU+6L72fox+6f6pPqq+iX71/vu/A7+A//6/4wALwH9AB0BPAEzATkBTAHuAGcApv9k/wD/af4I/rP9Q/3M/Kb8P/xI/Ir83vy3/Xz+Bv/N/gv+Af1m+yT6/fi/+Ib4h/mu+gn8Kv2J/pP/cACgAW8CYAMDBHcE/QPaA2oD+QKuAs0CPgN8A7sDCQSKBDMFBQYGB20HwgfhB/kGYAYBBWEEmQOiA9cDlgS6BRwHdQkAC70MxA3LDc4NzQyNC4YKSgkmCNQGxgXCBDUEuwN2AzsDCQPdAgsChAGsAKz/DP/g/jv/g/8oACYB/gGbAg8DgAOMA4MDTQMeA7oCkQLGAWsBTwEgAVgBuQGuAmMDBgSHBCAFbAXyBUQGbAYxBjoG/AXDBcoFpwX5BUQGygbtBgkHzgaJBuwFiwUzBesE7gTuBDkFaAXfBSQGKwYIBgUGxgXGBYgFUgU5BfsEzwR6BBAE3gOWA1cD/AKFAioCrQE2AaYAIgDY/1f/Rf8W/8r+m/5a/mD+QP5K/iT+8v2a/U/9/vyQ/JP8ZPyg/Pf8sP00/o/+4P7j/ur+vv7K/sr+3f5R/5P/WgAdAY0B3AEtAoIC8wI7A1oDXQMSAwIDDwM0A4YDvgNOBKYEtgSpBEgEFgS+A4ADbQNaA4ADjAOPA5IDiQNEAz4D7wK9AogCRgJAAhcC4gGXAWIBAAHFAIYASwAfANL/ev8c/x//Cf84/2H/vP/S/9j/v/99/zv/zf6i/q7+sf7n/kj/Pv+c/4D/hv+T/1H/Jf9O/4P/wv/n/9j/FQAZAHMAtQAvAbABwAEaAjcCXwKCAqsC2gLjAhUDEgNBAy4DQQMYA/kC8wIFAwwD7wK9AkACwAENAYMAQQDu/6//uP93/4D/Yf8o/9T+x/6J/nb+N/5m/on+uP6Q/+7/pgDuAJEBzAH4Af4BpgFSAXcA5P8c/4n+Ov7//bD91v3W/cb95v3f/R7+J/5m/rT+DP8W/zv/Jf/R/qv+Tf4k/t/9Ff4b/mP+fP6J/oL+ov6o/rv+7f7t/lH/Wv99/5z/DwC4AF4BFAJiArcC/wIiA0cDMQM0AxsD1gK6Ao4CTQL7AcABbgE5AR0BFgEZAVsBlwEBAmYCtwISAxUDJQMSAwwDGAP2AuwC4wLpAvkC/ALmAsACsQKxAp4CpAKVAn8CQAJQAh4CEQJNAlMCrgLQAhsDYAODA9oD1APOA84DtQO+A5kDkgOZA6gDvgPnA/oDGQRuBHoErATJBMIEsASQBFUEOAQjBPoDAwTeA8gDqAN2A1oDKAPgAqEChQJvAoICggJpAlACMAInAiECMwI6AiQCJwItAiQCNwJpAo4CvQLvAg8DKAMlA+8CtAJpAiQC6AGRAYcBVQE8AT8BIwENAd4AnwCGAIAAhgCJAKIAxQDOAMsA2wDYALUAjABUADgA9P+p/3r/cP9X/1r/Xv96/5z/qf+s/97/zv+f/33/Qf9e/y//Uf9O/4D/ev+A/5n/lv+y/5z/nP9U/zL/8/7a/q7+ef5g/kf+R/5j/pX+rv7g/vb+Cf8v/2r/g/+p/87/9P8oADUAUQCJAJwA0QDRANsACgEjATwBXgGaAckB6AHfAe8BAQIRAj0CaQKeAq4CugLKAs0C3QLQAvMCFQMiA0cDOANHAyUDDwP8At0C4wLTAscC3QLNArcCrgKVAqECmAKeAqcCsQKLAm8CHgIRAskBswG5AZQBuQGKAZoBhwF7AVUBSAE5AQcB3gC/AJwAgABRAA8ADADu/9v/8f/n/wMAPgA1AIAAgwCcAKYAxQDhAOcA/QDxAA0BDQEjAQ0BQgFCAWgBZQFSAXcBbgF7AWUBaAFVAUgBVQFlAV4BVQE5AUIBLwE8AU8BYgGBAbkBzwEEAh4CQAJ1AmICkQJpAmICXwI6AhQCFwIEAicCFAIRAiECAQIEAtwB6wHSAckBrQGXAXsBVQEZARAB5wDqAO4AzgDeANUA2ADRAM4AywDIAJAAcAA4APf/yP+T/3f/Rf8r/yj/AP8W/wz/Gf8r/wD//P7w/vn+2v7j/gD/AP8M/y//Wv90/5D/rP+4/9v/5/8AABUAMgBqAIMArwDIAPQALAFbAXQBigGaAbkBzAGqAbYBswHVAegB6wERAhcCMAJmAogCtwK0AuAC5gL/AjQDKwNnA00DWgMoA/YC1gK9ApUCfwJvAhcC/gHGAcYByQHVARECJwIBAswBwwG5Aa0BdwFVASkB+gDLAMgA9AD6AB0BGQEHARABvwCvAJAASwD9/6//g/9k/3D/Xv+G/7L/6/8lAGcAZwBdAIAATgBBAAMA5//3/97/7v8GAB8AcACcAO4APAGBAbkBswHyAQgCMAJTAmwCmwKOApgCggJWAmwCVgILAgQC0gHJAesBvAHVAfgBHgILAtwBtgGmAaYBjQGdAbABsAGUAbwBxgHfAegBlwGNAbkBrQHDAckB1QHVAaYBgQFbAQ0B1QB6AC4A3v+G/0v/Cf8D/+r+8/7d/q7+pf6V/nn+fP6+/ur+HP9F/6b/DAAyAJAAuwAEAQoBPwGKAckBEQIEAkACVgJGAh4CCAKKAaoBKQEQAfoALgAPALL/o/+Z/5b/if+8/87/HACQAOoAEAFVAYQBewFeATYBNgEsAVgBfgFYAfcAEAHnAMIA0QCTAOoAuwCZAMsAdwBEAOf/ev8+/w//x/72/vP+D/9L/yj/Qf8+/3D/0v/e/wMARAA+AIwArwBzAMUAzgC7AO4A3gCyAOQAjABtAE4Aqf+4/0v//P7E/qv+bP6e/nz+QP7i/UD+q/4r/23/AACWAMsAmgEqAssD9AMkBlgIdAscCycJHQjDBWIFNAMxA48DVwP5AkMC+AFlAVgBDQGNAd8BTAEfACj/+f6V/m3/2v4+AAABIAGdAf0AWAEzAeQAcAD0AG4BCwJ4AiQCEwF0Ab8AZADOAOEAnQFNAnUCfAMFA54C5gKwAVYCQAJlAbMBrQGyAEUBegDCAGUBMwEnAmkC/gHyAcwB2QEIAoEBIQJNAjMCUwKOArECfALKAgID/AKeAkACiwLfAdUBkQHOAN4ArwC1AGgBdwEvAcYBowGwAbYBUgHVAZQBqgHoAVIBbgENARABBwEZARYBFgH9AC8BEAH0AFgBNgFYASYBSAEZAT8BWwEHAUIBGQH6ABkB/QAAAQ0BLAE5AXsBQgFFAU8BHQFVASABTAEmAf0A5ADnADYBOQFrAVIBgQEvAVsBSAEvAYQBMwF7ATMBawE/ATMBOQEgAWIB0QD6AOQAFgEQAQQBWAE5AYEBWwGEAYQBUgFSAQcBKQETATwBQgFSAU8BUgFeAWgBfgF7AZoBYgF7AYQBtgGtAXQBhwGqAegBxgGwAZQBkQGRAYEBlwFoAXcBaAFbAXEBTwFuAV4BqgGUAbMB3AHDAQ4C+wEqAtwB2QHDAZoBgQEvATwBNgEzAfQAGQFPAVUBMwEjATMBNgE8AWsBTAFrAVgBVQGmAYcBlwGNAXcBZQEvATMBLwFMAUgBPAE8AQABXgFMAa0BYgE8AVgBLAFlASMBgQFiAYoBbgFlAaoBhAGtAY0BswGzAVsBewEdAW4BNgFMAYQBfgGmAVsBnQEmAZcBTwE5AUUBwgAAARkBDQE2AWsBswGHAXsBdAFIAWsBCgEjAdgAAAHOAOEAKQE/AXsBMwFMAR0BKQEZARkBEwHbAOcAywC7ACABEAEjASkBEAEHAf0AzgDqAB0BCgFIATwBewGdAaMBrQHJAZQBrQF7AYEBoAGBAWsBaAG5AW4BlwFuAbkBowGqAYQBewG5AXcBjQGUAYcBrQHJAbMB0gGXAZQBlAGdAXcBlAFIAVIBLAFbAUwBPAFeASYBYgEsAQQB8QAgAeQAJgG/AMsAcwCZAGoApgBwALIAvwDnACABNgF+AfcAaAHFAD8BXQATAbsAAAFPAQoB2ADeAMIA8QAvAaIAtgHYAHQBhwFlAS8BhwGtAVsBtgFFAX4BVQH6ADYBBwEZATkBEAEQAbYB5wDlAaoBywDGAWIBcQF1AgQCJAIxAysDlgOmBJUGDgaECIkKpg7FDo4MtAwxCv8JAQh2Br0FFAWSA+MCngKuAukCpwI0A3MDeAL4AZkAS/9BAN7/9P85Ae4AcgKAAzACsQIPA0MC6gAQAaoBtgFlAQ0B4QDLAJYAWgBBAG0AIgAAANEAKQFFAe4AWgDRALUAjAD0AIkAZABhABkAGQCGAAoBkQGBAY0BDgLfASABGQEHAf0AMwHcAVYCYgKVAoUCWQK9AmkCVQEWAYkAHQEsATMBHQETAf0AhgBoAYEBUgFiAa8AkwC4AEQAuAD0AD8BxgGdAV4BBAGMAGoAVwA7AGQAjABkAJ8ATgCvAAQB2wC/AN4AWwEgAWIBpgHyARcCEQIaAioCyQHVAaMBvAGgAYcBawF7AZoBpgEzAvUBLQIIAgEC8gHiASECDgJ8Al8CXAJWAk0CfAJiAoUC+wH+ATMCNwJ1AkkCLQJfAl8CUAItAgsCGgL7ASQCHgJZAk0CQwKCAk0CkQJ4AmYCXwJDAnICUwJZAjoCfwKhAlMCQwIwAhcC6wHfAQ4CJAJsAlMCbwLAAroC7wLEAqcCMAItAiECQwJsAjcCXAJyAmICeAKLAoUCrgKOAmwCeAJDAjcClQKLArECsQLaAroCZgJcAgsCMAIRArYBswGBAT8BDQEWAdsA0QD0AHoArwCWAGoArAB9AJ8AlgBnAHAAZABdAGEAiQB3AIkAhgArAEgAKwBdAGEAOwA+ABUAgABhAFoAkACDAKYArwC7AN4A0QCyAHAASwB3ADUATgB6ADsAVABRAGQAcACDALsAxQDLANgA1QDhAPoAnADeALsAkwDCACgAcAB3AFEA0QD6AL8A4QCAABABPAFxAcYBmgEBAsMBWQLAAf4ByQGdARQC1QE3AugB3AGRAZcBaAHrAQsC/gGOAioCOgIkAvUBMwJQAgECFwKqAWgBswFPAc8B+AEtAgsC8gF8AhcCQwIRArYBpgGdAZQBTAF0ARYBawGjAWgB7wGmAXEBXgFIAQAB6gD0ABYBpgFYAW4BJgEKAUwBYgFFAdUAkwA+ALgAnACAALsA2ADVAO4A9AAsAQoBkwBkAFoAlgBhACgAgwDqAJAABAHuAJkApgAGALj/AABtAKIATgAlAAwANQBzAEQAZABEAD4APgDO/2EAiQBLAHAA8f/kAOQAkQFxAfQAwwHSAWkCUwKnAlMCSQJpAmwCBALMAfIBpwJKA2AD3QJmAlkCRgKYApECoQIEAtYCbwKYAlkCggKIAk0ClQJSAXoABAGWACsA2AArABMBcAB9AOH/+v81ABIACQDe/wAArP9O/6b/0v/0/8UAKABLAMj/6/8cAHcAvP+j/7L/YQCQAG0AZwBUADgAsgDuAIAA+gCZADkB6gAQASABvwBIAOQA8f+cAL8A2wBYAVsBQwI3AhsD/ALNAs0CAgNWAuMCXwIqAswBJwJAAqYBzAHDAXsBmgGdASwBOQHRAD8BAAGdAYoBhwFeAZEBBAHxALIAkwA1AAYAJQBIALUArADbAB8AJQAW/x//gv78/rv+jP5Q/tT+Rf/X/uf+ev9t/8T+0v/U/nf/Tf4n/jj/Wv/I/6n/OP8r//D+/P5d/uL9Hv43/oL+nv4uACQCWASKBKIDxwLQAtUAkP8A/5P/sf4Y/g7+bP7d/mD+8f/kANUBbQAZAQkA7wFWAhECDgJAAkUECQTtA5YEmwZpBqgGYwYLBqMEqAPgAqsCawGRARYBkQH1AcYB/AKyA7UDrwMyBLgD1gJSAfIB4QCWAMX//QAZAX4BYgEXAlACSAFCAQAA1QDbADYB6gBFARkAnAB+AUIBvwC5AesBpAIoA5cBKQFeAS8BLAF3Af0A0QCQACsA3v8AAcABmAKaAYIC1QGdAQ4CFALpAm8CKgJ7AcYB9AAlAMgACgFAAskBwwEeA3UCbgRhBEQDtwLvAgAB9ACJAAkAFQCMAIwAzv9xAf3/sgBOAHAAlgB6/+D+qf+v/43/Z/8P/7L/d/8i/8X/4f9IACIAyADJAcwBKgL4AU0CXAK6AtEA0QDn/zgATwGVApsCVgI3AkUB2QEQAc8BwAGqAYICSQKEAXwCzAHfAXgCxwIlA9UBNwJuAV4BJwIvARcCrQHFADwBTgAMAKIA9ABoAQABHQFzAJz/3v+yAL8AjQFYAbYBVANQAhgDagO7Ay4DXQMzAuIBQgGmAToCXAIhAtUBBQOaAfUBdAHAAfUBCwIXAh4CoAEQAawABALVAWYC0gETARcC4wIEAgkDSgMkApkDaQKDA3QBEAF6AKIAVACXAXEBUwJQAjkBawE7/+4A9P99AHsBTAHJAWYCEwF7AfcAbgEwAocBBAKhAqMBQwK2ATwBsAFCAbYBHAC3AkUB0gF8Al0AsAEPAFcA0QAVAEkCtgFJAgECEAF/AvEA1QC7AEgAlwHuAO4ARgKiABoCsAGIAmkC+AFGAiIAowEsAUYCWwFrAYICMwLyAdUBRQFEAJMAuACfAHMACAInAsACTQMSA7gDtAL7AQECBAEBAtj/NgHHAkkCKAMqAl8CAwAvAR4CHgLaAm0DiwLrAXICXALVAB0BrgJ+Ae8ChwEgAXoANQCwASUAJwLgAhECxQDF/3oAr//9/1T/2QEAAJMANgE1/yABjP5OAOH/Gf8SAEYC6//n/r//u/6A//3/hgBU/3oAg/9R/3P+gP93/0H/d//V/3AANf/kAG4B3gBeAWEAAP9wAHr/yACAAxQCXgRhCxIUCBCcB08Fpf5N/tX/iwJqA94A9QEDALT+QQBTAsAC1ANhBBUDKgISAD4ARAMEBccGIQbMBKUDcQSIBVkFLgaKB5MHnglFDocOrg0/CNYCqwJ/AlH/Tv9qALYBsQKIApkDRQFm/vn+QP3C/E7/vv4h/mP+JQC//xL/1/sW/JD8W/yW/Pf8AP9IAC//AABMAcH+bQC2AVwCkgNyBUkFkwQFA4UCMAI1BMUEtAa/By8HkwR2AyYE0AJkBCoCQAJIBFcDIQInBmkGXQb5BQgJegcMB4oHlAWOCOgHggYCBjMFgwP5BV8F1wNXAycFGgKCAt0C/AJ0BDwEvAGQAPcA2v4h/rz8VQGRAfP+vP8lAxf94v1wAyUAmv2yAAYAPgN2A+z9mwKNB08BKvodBVwFrP9IAasDJwJIAJr9C/6aAaABQwKwAbj/lf4U/XP7QvzN+gn8RgJ7AQD/dPyY/poBeP2m/2oAV/+I/WH/JgFhAOoA9v54/ZkAOAAq/RUA3gAcAI8DYgIV/i4AxQAVAyAFIgNqABQCJQA1/3AD/f9B/3r/fQAkAoAATAHLABMEygKRAXUFzf5OAC0Cmf+5BAgGLQJ//nEBWQKHAXcAU/6G/zf+1QCwBYYDS/+XAWT/cwP2Ag39qv2zAf3/xAL8/k/2Af3u+YwAzga8BCkEPzRsTS08OCmlDYkG9fmY9+372ADfBPb+CPd/9D33h/xs+tL8Uv169evvVO6l8fz3zQJWAl37XAK1//782QFn/NH73fts98r0zwG1B7ID8QReAWn+af7I+Hj2rvuRAi0FGAPDAZb/5/td+2f85wCwBQgC+v8r/l786Pxn/O37FP18/sT+vv53ARYEfQTTAkEAjv0x+0f+pgFNAiIDFwWGA9v/DwBN/qz8Zv7I/7X/AwCb/oj9G/7F/3wD7gTtA1YC8gGfABwAkAAoAL//KP/h/+8B0wL6AxME0wKtAeEAuP8J/wABdAFfAh4DxQPzAqMB6AHWAscCpQPnA4gCPQKuAq0BpgDyAckBVgKwAckB+wEIAp0BGQHVADsAMgAZAbYBQAKLAtwBwwFkAFQAxf/L/2cAxQDbAK0BygKcAEQA5wBBAIwAMgBXAHMAKAAKARMBYQB9ACMBMgBtAKIAegCqAYcBZQF3AaIAKwDOAA8ArADPAT8BPwFFAawA9wAmAakAPAG/AJ8AwAEIAh0BswFWAn4BvAHPAXcBIwFeAfsBOgJJAsABhAHnADMB8gFbAQEC1QGtAWgBUgF3AQABlAHPAScC0gFrAQgCFAK8AZ0B6AGjASkBLwEKASkBIAENAT8BPAGpAPoAPAEsARkBUgGRASwBGQFCAYQBHQFoAVUBTAHSAWUBPAFlAUwB6gAjATkB+gATAUIBUgF0ASYBGQFbAUgBDQGUAYoBlwEBArwB+wHDAXQBhAHrATwBRQHAAX4BoAHJAaoBhAGNASYBDQFbAWsBdAF7AVIBjQGEAaABzwH7AZcBlwGUAUwBdwFVAV4BbgGKAT8BdwGEAWUBPwFxAWIBigHDAbMB1QGqAYoBkQGzAZcB/gHiAaMB3wGdAXEB9QGgAX4BfgGtAWUBlwGUATYB3wFPAd8B6wHPAbwB6AGXAXsB+AF7AesB6wFeAegBCAKtAbMB6wF+AX4BCAI8AbwBuQGzAXsBzAHSAZEBIQJSAZoBjQGmAaABtgGwAdIBtgHMAS0CGgLvAT0CIQLZARQCyQHiAfUBHgLJAUYCvAGqAQQCDgLlARoCPQLyAcYBlAHrAQQCHgLrAU0CyQEhAugB/gFDAh4C/gHVAeUBigHGAd8BCAIEAv4BwwERAtUB7wGqAesBoAHPAaoBxgHZAUwB7wHfAcwBlwERArABxgHDARoCUwJpAtUBMwJWAioCEQJWAkkCAQJiAsMBBQP+AV8CEQKCAs8BbAInAvsBNwJ+AQECzAG5AWIBRgIhAtkBCgEOApQBMwJ3AWIBkQGHASkBOQGRASAB1QHbALwBJgFFAecAWAE7AJMAVwAfAAAAAAADAD4AUQDV/6wA6/81AOP+5//CAKkAr/99ADIAQQBBAFcAAADFAPQA3v+KAfIBGQFYAX4BdwChAjoCzAFZAoICngKDAw8DAAHKAu0DTwGcAFAC4gGEAZAAegDkABMBAwAMABkA2wBXAEj/AAFbAfT/k/+c/xkA6AEdAX4B2wB+AYkAcwD3/8f+S/+wAVwCff+aAQ8AEAGiAKj+O/89AiwBNv3u/3EBtAJa/jD9HgK/BIEBGf+D/2ADpgQ+AMb99P9+Aef/IgDPAcACnQH5/ncAGQHN/U/94P6rAq8ASv7j/jsDFgEa/UL8yv4j/Uf7bvb//W4Bm/pn+B3znv0V/v4Ljg9cBc4RVmv/f385FyRGCNsKU/q+4+v/kgbb/+QHrvvj/hYSBAi98MUARv1g6mjyfugM6ykIlQbC+H8CFwhX/w4CBv+T+HsFs/Ja6m7yCgHgDOEAtft0B9YTjwkD/NL5TvxdCrAP7QYeBsMFVPuY9wcBTgq3DLIKcwBv+ir6x/c6+rb8rgISAPL5zPydAZ8HRwZqAK77GPuf+379C/4JAO8F8gjZCAMAG/e29nL3dvi1++v5mftV/ZX+IwEXAigATf7w/hv+KAOTAID8j/4r/jkBvgO2AeAC0gfaCfMG5gKT/3f/fQCN/zwE3wTxBJcIlgdRB2UIgwd7BTIE4wWFBq0FkATQBT4HPQUHBYICzgPKBagDUgT3AML/uQG6AhwHPwjwBhUGswTMBPoDZwRIBNEAfAIuA7UA4gHcAScCgwOmAbwBSQJIAJAA7wHWAjMC7AIrA8ABCAIfAPT/mgG3AgkDGAOBAQkAWgDcAV4EfgXlBLwEkgMGAOL8ff+RAZQBDAP7AU4AT/2a/UUBuQSDByMICwbFA2gBZABzAGIB7QPsAqUDFQMzAjgDIwSwBLAE2ASOBSQG+QXoBC4D7wI8AcABKgJIAY4CSgN3AE4AOgK7AIcBDgI1AAz/OACXAU8BQAL2AnICWwRcBeYC5gKRAtkBpwJdA4ADyQGzATIEEgZyBVYFlwUDBxQJowewBEEDEQK6ApkDvAGJAK0BhQKAA5gGdAfmBTMFLAQZBFcDoAHyAVMC6AFFAaECNQSvA48DMAW3BUAFygWBBAcBxgFPATIAWQUcB6YEwQOGA9EDcQS8BHMDMwKYAskETwW5BBYH9AQnAjEDBgTeA7QFsATcAQkDHgP8ApYDmAIEATYBSAAzAukFlAUtAskB5AOoA2cE8AORAf3/QwJxBCcFPQXpAqcCPAHh/8UEEATw/mz+j/7F/Kz/pAIXAuUBSAAaAucDXwJGApsCu/6i/rQClgO9AkIEzQL8AmcDcwOiBvwFmwKSA+kFQAUsB98FHQVeBE8F7QbHBloG9weuBqYEkgZ2Bj0FKgVgA8MBwQOjBDIEgAOWBMAChQJOBIsFTQPXA04E9gKXBZoEyAMRAoQBbQMqAnUCIwVPAQ8AdQLjAo0BfQToBIcBOgIEAk8B6wEwAoAAuwDiAQoFXgR3APgBwAEMAAIDHgKmADMC8wI1AOsEvQjuBHcEBwV5BqQFFwUVA2wGngXjApsCqwN8A3EBtgGjAZoEEgP4AYwAwALoBKsCyADS/2cD0gGT/8gD0AIjBUcGMgToBNQGfAZlBVQHqQTdBkgEsgOHBO8FPwRtAJ4CvQInAncBDgKVApEFIwFUAJYEOAO2AZwA7gBgA/QETQL8/usBPAEhAjQDHgIoA7UDrAQMAxoFpAWPA1f/LAElA8YFdQUtAgQFhgPnA90GsQanBSgA/AI6CZwHhQUOBVQDK/6pAI4CrAT7BMUEPQY8BLcFzQVLBEYCOgKtAdAFowQSAOIBGQQpBIgCwAKA/5QB1AN9AOoAMQbOAzIA4ALj/jIEdgPf/UsAOgLoB10DeAK+A+QDNgU5Aa8DtwJrBPcA3P0cAJID/gFdAOACaf7vAUgB6v7RAJwDdP+2/NEASAC0/oX+QwLEAscC1P7Y/CkB/P1v/oICBAKmAHcAyACUAc8EGQuZB8sAY/66+mL9cv3FBJ0Bq/7RAM8BcAM1B7wE+gCBBbsDKAcSA/QDD/8BAjcJFRGwFuQXGg9p/gfz5+Pf77n8uwYCA7kBCRF7EsoanxEzCFISvAfDBTYMnAcmCNMJG/6XBSMBYPfe/KP5kPgt92oAeAL0BCgAMf72/gv+AgORBcwI2g3zEA4Xig5ZDEEXzg1QE+UOKQiMA639HQG2AYEBSQK6+nj2Vf2Y/on7Y/cX8yXxUP4fAKX+xf9a+5IDfgGN+TgETv+r/hkAdPys/1z6gQQbCXAKewwPA/j9vv7p+gAA4P5eBPILgQjQCeISHRk4DkQKGgiiA74KawSL+r8ApQO+Cb0FGAorFK4T/BDwCS8HjAMh/jv/jPvcAaUQkw4UFhQT+RDoDk8FfAbHAuYCMwWTBEAJygXaAvwMYQuSCWQKvgrtCXQHzQIjAQH9nPj++aT9tgHe/O37AAGnBWELJQehAoz+Y/d7+rP8sAWmC38NzhjBGmYaFBYZEbEGYfhZ+ob0z/YB9qD5af5bAcL/HgNc/UbwIvF/6g==\" type=\"audio/wav\" />\n",
              "                    Your browser does not support the audio element.\n",
              "                </audio>\n",
              "              "
            ],
            "text/plain": [
              "<IPython.lib.display.Audio object>"
            ]
          },
          "execution_count": 14,
          "metadata": {},
          "output_type": "execute_result"
        }
      ],
      "source": [
        "text_to_generate = input(\"Input text to synthesize: \")\n",
        "spec, audio = infer(text_to_generate)\n",
        "import IPython.display as ipd\n",
        "import numpy as np\n",
        "\n",
        "_, audio = infer(text_to_generate)\n",
        "path_to_file = 'output.wav'\n",
        "from scipy.io.wavfile import write\n",
        "write(path_to_file, 22050, audio)\n",
        "\n",
        "ipd.Audio(audio, rate=22050, autoplay=True)"
      ]
    }
  ],
  "metadata": {
    "accelerator": "GPU",
    "colab": {
      "collapsed_sections": [],
      "name": "Synthesize TalkNet.ipynb\"",
      "provenance": []
    },
    "kernelspec": {
      "display_name": "Python 3",
      "name": "python3"
    },
    "language_info": {
      "codemirror_mode": {
        "name": "ipython",
        "version": 3
      },
      "file_extension": ".py",
      "mimetype": "text/x-python",
      "name": "python",
      "nbconvert_exporter": "python",
      "pygments_lexer": "ipython3",
      "version": "3.7.9"
    }
  },
  "nbformat": 4,
  "nbformat_minor": 0
}
